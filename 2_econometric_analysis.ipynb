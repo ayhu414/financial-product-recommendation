{
 "cells": [
  {
   "cell_type": "code",
   "execution_count": 3,
   "id": "80609c48-1568-45f2-9ac0-5cedaf07688c",
   "metadata": {},
   "outputs": [],
   "source": [
    "import pandas as pd\n",
    "import numpy as np\n",
    "\n",
    "import seaborn as sns\n",
    "import matplotlib.pyplot as plt"
   ]
  },
  {
   "cell_type": "code",
   "execution_count": 4,
   "id": "d3a78d5b-f6ee-421e-8687-98ec1f73c1f6",
   "metadata": {},
   "outputs": [],
   "source": [
    "import zipfile"
   ]
  },
  {
   "cell_type": "code",
   "execution_count": 5,
   "id": "87967a4d-1d8e-44fe-a2ff-6a1de43af29c",
   "metadata": {},
   "outputs": [],
   "source": [
    "zf = zipfile.ZipFile('train0328.csv.zip')\n",
    "df_train = pd.read_csv(zf.open('train0328.csv'),low_memory=False)\n",
    "zf = zipfile.ZipFile('test0428.csv.zip')\n",
    "df_test = pd.read_csv(zf.open('test0428.csv'),low_memory=False)"
   ]
  },
  {
   "cell_type": "code",
   "execution_count": 6,
   "id": "fda6e68e-a310-4cbf-a6e4-2ee6e73e485a",
   "metadata": {},
   "outputs": [],
   "source": [
    "df_train.set_index('cust_code',inplace=True)\n",
    "df_test.set_index('cust_code',inplace=True)"
   ]
  },
  {
   "cell_type": "code",
   "execution_count": 7,
   "id": "b9d1cfaa-11c2-4e9b-bbbb-90c6752e7ece",
   "metadata": {},
   "outputs": [],
   "source": [
    "df_train = df_train.sample(frac=0.01)\n",
    "df_test = df_test.sample(frac=0.01)\n",
    "#train_idx = df_train.index\n",
    "#df_test.loc[df_train.index]"
   ]
  },
  {
   "cell_type": "code",
   "execution_count": 54,
   "id": "02e7c746-e927-43ff-8cd9-9a552b744299",
   "metadata": {},
   "outputs": [
    {
     "data": {
      "text/plain": [
       "Index(['Unnamed: 0', 'fetch_date', 'emp_index', 'country', 'sex', 'age',\n",
       "       'cust_date', 'new_cust', 'cust_seniority', 'indrel',\n",
       "       'last_date_as_primary', 'cust_type', 'cust_rel', 'residence_index',\n",
       "       'foreigner_index', 'joining_channel', 'deceased', 'prov_code',\n",
       "       'prov_name', 'activity_index', 'income', 'segmentation',\n",
       "       'savings_account', 'guarantees', 'current_account',\n",
       "       'derivative_account', 'payroll_account', 'junior_account',\n",
       "       'mas_account', 'perticular_account', 'perticular_plus', 'st_deposit',\n",
       "       'mt_deposits', 'lt_deposits', 'e_account', 'funds', 'mortgage',\n",
       "       'pension', 'loan', 'tax', 'credit_card', 'securities', 'home_account',\n",
       "       'payroll', 'pension2', 'direct_debit', 'new_credit_card',\n",
       "       'next_credit_card'],\n",
       "      dtype='object')"
      ]
     },
     "execution_count": 54,
     "metadata": {},
     "output_type": "execute_result"
    }
   ],
   "source": [
    "df_train.columns"
   ]
  },
  {
   "cell_type": "code",
   "execution_count": 55,
   "id": "aa2815f1-cc32-46fb-a3cd-188f33b8bb3e",
   "metadata": {},
   "outputs": [],
   "source": [
    "dropping = ['cust_date','Unnamed: 0','prov_code','joining_channel','indrel','emp_index','new_cust','cust_type','residence_index','foreigner_index']"
   ]
  },
  {
   "cell_type": "code",
   "execution_count": 56,
   "id": "ed7552b6-dcdc-40dc-9cf0-150e477d4bb2",
   "metadata": {},
   "outputs": [],
   "source": [
    "df_train.head()\n",
    "\n",
    "full_train_Xs = df_train.drop(columns='next_credit_card')\n",
    "full_train_y = df_train.loc[:,'next_credit_card']\n",
    "\n",
    "final_test_Xs = df_test.drop(columns='next_credit_card')\n",
    "final_test_y = df_train.loc[:,'next_credit_card']\n",
    "\n",
    "full_train_Xs.drop(columns=dropping,inplace=True)\n",
    "final_test_Xs.drop(columns=dropping,inplace=True)"
   ]
  },
  {
   "cell_type": "markdown",
   "id": "42f0121c-aecd-4638-94f0-32031fce2e9a",
   "metadata": {},
   "source": [
    "interior splitting"
   ]
  },
  {
   "cell_type": "markdown",
   "id": "33554588-1ca7-40cb-990a-fa234974e7a0",
   "metadata": {},
   "source": [
    "Train/Test split and preprocessing"
   ]
  },
  {
   "cell_type": "markdown",
   "id": "3b11b5fc-0660-48f0-b4f7-b10f00943645",
   "metadata": {},
   "source": [
    "Standardizing the data and running PCA"
   ]
  },
  {
   "cell_type": "code",
   "execution_count": 71,
   "id": "f4ebd77f-5056-4e77-b108-ec2c0b682a57",
   "metadata": {},
   "outputs": [],
   "source": [
    "from sklearn.impute import SimpleImputer\n",
    "from sklearn.preprocessing import OneHotEncoder, MinMaxScaler\n",
    "from sklearn.pipeline import Pipeline\n",
    "from sklearn.compose import ColumnTransformer"
   ]
  },
  {
   "cell_type": "markdown",
   "id": "653c3ca2-ae36-4cf9-bd72-7655babb7404",
   "metadata": {},
   "source": [
    "Identifying categorical vs numerical columns\n",
    "\n",
    "Then making a data cleaning pipeline"
   ]
  },
  {
   "cell_type": "code",
   "execution_count": 78,
   "id": "e9b53244-c40a-47bb-bacd-2fbbb6890fb0",
   "metadata": {},
   "outputs": [],
   "source": [
    "obj_Xs = train_Xs.drop(columns=['age','cust_seniority']).columns.tolist()\n",
    "num_Xs = ['age','cust_seniority']\n",
    "\n",
    "numeric_pipe = Pipeline(steps=[\n",
    "    ('imputing mean', SimpleImputer(strategy='mean')),\n",
    "    ('scale', MinMaxScaler())\n",
    "])\n",
    "\n",
    "categorical_pipe = Pipeline(steps=[\n",
    "    ('impute', SimpleImputer(strategy='most_frequent')),\n",
    "    ('one_hot', OneHotEncoder(handle_unknown='ignore',sparse=False))\n",
    "])\n",
    "\n",
    "preprocessor = ColumnTransformer(transformers=[\n",
    "    ('numerical',numeric_pipe,num_Xs),\n",
    "    ('categorical',categorical_pipe,obj_Xs)\n",
    "])"
   ]
  },
  {
   "cell_type": "markdown",
   "id": "52056230-40fa-4317-a343-733f7d04a1d0",
   "metadata": {},
   "source": [
    "Defining PCA procedure; note: the reason why we need to conduct PCA is to\n",
    "1. reduce the dimentionality of the data\n",
    "2. re-introduce continuity into the data due to an extreme number of binary variables"
   ]
  },
  {
   "cell_type": "code",
   "execution_count": 79,
   "id": "ab6477ce-4a8d-4c3e-947b-c7a78182c65c",
   "metadata": {},
   "outputs": [],
   "source": [
    "full_train_Xs_pc = preprocessor.fit_transform(full_train_Xs)\n",
    "final_test_Xs_pc = preprocessor.fit_transform(final_test_Xs)"
   ]
  },
  {
   "cell_type": "code",
   "execution_count": 131,
   "id": "f6c9d243-fec5-41be-b488-69bf33a43f24",
   "metadata": {},
   "outputs": [],
   "source": [
    "from sklearn.model_selection import train_test_split\n",
    "train_Xs, test_Xs, train_y, test_y = train_test_split(full_train_Xs_pc,\n",
    "                                                      full_train_y,\n",
    "                                                      test_size=0.4,\n",
    "                                                      random_state=0)"
   ]
  },
  {
   "cell_type": "code",
   "execution_count": 132,
   "id": "68947b51-5d5b-40b2-a978-2095968e2576",
   "metadata": {},
   "outputs": [
    {
     "data": {
      "text/plain": [
       "(5550, 7179)"
      ]
     },
     "execution_count": 132,
     "metadata": {},
     "output_type": "execute_result"
    }
   ],
   "source": [
    "train_Xs.shape"
   ]
  },
  {
   "cell_type": "code",
   "execution_count": 133,
   "id": "124c8bfa-c201-4d9d-941f-3d1d01be917c",
   "metadata": {},
   "outputs": [
    {
     "data": {
      "text/plain": [
       "(3701, 7179)"
      ]
     },
     "execution_count": 133,
     "metadata": {},
     "output_type": "execute_result"
    }
   ],
   "source": [
    "test_Xs.shape"
   ]
  },
  {
   "cell_type": "markdown",
   "id": "d006d0c3-1a83-4673-b4e5-1c7f897f55a9",
   "metadata": {},
   "source": [
    "PCA"
   ]
  },
  {
   "cell_type": "code",
   "execution_count": 134,
   "id": "de78e8a2-f460-4fd2-85dc-bacccb1f2cfd",
   "metadata": {},
   "outputs": [],
   "source": [
    "from sklearn.decomposition import PCA\n",
    "pca = PCA(.95) #keeping 95% of all variance"
   ]
  },
  {
   "cell_type": "code",
   "execution_count": 135,
   "id": "bb017b43-3c88-4743-87f6-44375a9048d2",
   "metadata": {},
   "outputs": [
    {
     "data": {
      "text/plain": [
       "PCA(n_components=0.95)"
      ]
     },
     "execution_count": 135,
     "metadata": {},
     "output_type": "execute_result"
    }
   ],
   "source": [
    "pca.fit(train_Xs)"
   ]
  },
  {
   "cell_type": "code",
   "execution_count": 136,
   "id": "10779900-b519-48fc-af7d-1c53cca1110f",
   "metadata": {},
   "outputs": [
    {
     "name": "stdout",
     "output_type": "stream",
     "text": [
      "train_Xs shape: (5550, 7179) ||| test_Xs shape: (3701, 7179)\n"
     ]
    }
   ],
   "source": [
    "print(f\"train_Xs shape: {train_Xs.shape} ||| test_Xs shape: {test_Xs.shape}\")"
   ]
  },
  {
   "cell_type": "code",
   "execution_count": 137,
   "id": "a1c08fce-07bd-4437-b568-f1ab4e28cca0",
   "metadata": {},
   "outputs": [],
   "source": [
    "train_Xs = pca.transform(train_Xs)\n",
    "test_Xs = pca.transform(test_Xs)"
   ]
  },
  {
   "cell_type": "code",
   "execution_count": 138,
   "id": "3b07c597-065d-46f7-a5f0-f5898ab9fe15",
   "metadata": {},
   "outputs": [
    {
     "name": "stdout",
     "output_type": "stream",
     "text": [
      "train_Xs shape: (5550, 2651) ||| test_Xs shape: (3701, 2651)\n"
     ]
    }
   ],
   "source": [
    "print(f\"train_Xs shape: {train_Xs.shape} ||| test_Xs shape: {test_Xs.shape}\")"
   ]
  },
  {
   "cell_type": "code",
   "execution_count": 139,
   "id": "2847c822-0550-4d8c-af4f-a98c438b14c6",
   "metadata": {},
   "outputs": [],
   "source": [
    "from sklearn.linear_model import LogisticRegression"
   ]
  },
  {
   "cell_type": "code",
   "execution_count": 140,
   "id": "7e3cd62f-5a46-4cfc-a2e7-40b8de612368",
   "metadata": {},
   "outputs": [],
   "source": [
    "logisticRegr = LogisticRegression(solver = 'lbfgs')"
   ]
  },
  {
   "cell_type": "code",
   "execution_count": 141,
   "id": "83200646-f106-45b1-91fd-550784c4010d",
   "metadata": {},
   "outputs": [
    {
     "data": {
      "text/plain": [
       "(5550,)"
      ]
     },
     "execution_count": 141,
     "metadata": {},
     "output_type": "execute_result"
    }
   ],
   "source": [
    "train_y.shape"
   ]
  },
  {
   "cell_type": "code",
   "execution_count": 158,
   "id": "785f39dd-43ef-4d24-ae62-496966d4fe2b",
   "metadata": {},
   "outputs": [],
   "source": [
    "train_y = train_y.fillna(0)\n",
    "test_y = test_y.fillna(0)"
   ]
  },
  {
   "cell_type": "code",
   "execution_count": 153,
   "id": "b0e5b7af-56e1-479f-bc8d-a071b26b0d7e",
   "metadata": {},
   "outputs": [
    {
     "data": {
      "text/plain": [
       "False"
      ]
     },
     "execution_count": 153,
     "metadata": {},
     "output_type": "execute_result"
    }
   ],
   "source": [
    "pd.Series(train_Xs.ravel()).isna().any()"
   ]
  },
  {
   "cell_type": "code",
   "execution_count": 154,
   "id": "eb6818da-5e6e-420a-887b-527faeb369a5",
   "metadata": {},
   "outputs": [
    {
     "data": {
      "text/plain": [
       "LogisticRegression()"
      ]
     },
     "execution_count": 154,
     "metadata": {},
     "output_type": "execute_result"
    }
   ],
   "source": [
    "logisticRegr.fit(train_Xs, train_y)"
   ]
  },
  {
   "cell_type": "code",
   "execution_count": 162,
   "id": "c591860d-a9f3-4e07-8e26-5c6ce5f74992",
   "metadata": {},
   "outputs": [
    {
     "name": "stdout",
     "output_type": "stream",
     "text": [
      "the model has \n",
      "\tScore of: 0.992704674412321\n",
      "\tMAE of: 0.007295325587679005\n"
     ]
    }
   ],
   "source": [
    "from sklearn.metrics import mean_absolute_error\n",
    "\n",
    "preds = logisticRegr.predict(test_Xs)\n",
    "\n",
    "mae = mean_absolute_error(test_y,preds)\n",
    "score = logisticRegr.score(test_Xs,test_y)\n",
    "print(f'the model has \\n\\tScore of: {score}\\n\\tMAE of: {mae}')"
   ]
  },
  {
   "cell_type": "code",
   "execution_count": 163,
   "id": "88e80192-4556-418c-8e46-78dab6e1c37a",
   "metadata": {},
   "outputs": [],
   "source": [
    "def graph_preds(validation,prediction):\n",
    "    y_valid_ser = pd.Series(validation.reshape(1,-1)[0]).rename('validation')\n",
    "    compare_df = pd.DataFrame(pd.Series(prediction).rename('predicted')).join(y_valid_ser)\n",
    "    \n",
    "    compare_df.plot.scatter(x='predicted',\n",
    "                            y='validation',\n",
    "                            c='red')\n",
    "    \n",
    "    plt.xlim((0,1))\n",
    "    plt.ylim((0,1))\n",
    "    plt.plot([0,1],[0,1])"
   ]
  },
  {
   "cell_type": "code",
   "execution_count": 165,
   "id": "ab168db0-1477-454c-bd34-8f15ac026383",
   "metadata": {},
   "outputs": [
    {
     "ename": "AttributeError",
     "evalue": "'Series' object has no attribute 'reshape'",
     "output_type": "error",
     "traceback": [
      "\u001b[0;31m---------------------------------------------------------------------------\u001b[0m",
      "\u001b[0;31mAttributeError\u001b[0m                            Traceback (most recent call last)",
      "Input \u001b[0;32mIn [165]\u001b[0m, in \u001b[0;36m<cell line: 1>\u001b[0;34m()\u001b[0m\n\u001b[0;32m----> 1\u001b[0m \u001b[43mgraph_preds\u001b[49m\u001b[43m(\u001b[49m\u001b[43mtest_y\u001b[49m\u001b[43m,\u001b[49m\u001b[43mnp\u001b[49m\u001b[38;5;241;43m.\u001b[39;49m\u001b[43marray\u001b[49m\u001b[43m(\u001b[49m\u001b[43mpreds\u001b[49m\u001b[43m)\u001b[49m\u001b[43m)\u001b[49m\n",
      "Input \u001b[0;32mIn [163]\u001b[0m, in \u001b[0;36mgraph_preds\u001b[0;34m(validation, prediction)\u001b[0m\n\u001b[1;32m      1\u001b[0m \u001b[38;5;28;01mdef\u001b[39;00m \u001b[38;5;21mgraph_preds\u001b[39m(validation,prediction):\n\u001b[0;32m----> 2\u001b[0m     y_valid_ser \u001b[38;5;241m=\u001b[39m pd\u001b[38;5;241m.\u001b[39mSeries(\u001b[43mvalidation\u001b[49m\u001b[38;5;241;43m.\u001b[39;49m\u001b[43mreshape\u001b[49m(\u001b[38;5;241m1\u001b[39m,\u001b[38;5;241m-\u001b[39m\u001b[38;5;241m1\u001b[39m)[\u001b[38;5;241m0\u001b[39m])\u001b[38;5;241m.\u001b[39mrename(\u001b[38;5;124m'\u001b[39m\u001b[38;5;124mvalidation\u001b[39m\u001b[38;5;124m'\u001b[39m)\n\u001b[1;32m      3\u001b[0m     compare_df \u001b[38;5;241m=\u001b[39m pd\u001b[38;5;241m.\u001b[39mDataFrame(pd\u001b[38;5;241m.\u001b[39mSeries(prediction)\u001b[38;5;241m.\u001b[39mrename(\u001b[38;5;124m'\u001b[39m\u001b[38;5;124mpredicted\u001b[39m\u001b[38;5;124m'\u001b[39m))\u001b[38;5;241m.\u001b[39mjoin(y_valid_ser)\n\u001b[1;32m      5\u001b[0m     compare_df\u001b[38;5;241m.\u001b[39mplot\u001b[38;5;241m.\u001b[39mscatter(x\u001b[38;5;241m=\u001b[39m\u001b[38;5;124m'\u001b[39m\u001b[38;5;124mpredicted\u001b[39m\u001b[38;5;124m'\u001b[39m,\n\u001b[1;32m      6\u001b[0m                             y\u001b[38;5;241m=\u001b[39m\u001b[38;5;124m'\u001b[39m\u001b[38;5;124mvalidation\u001b[39m\u001b[38;5;124m'\u001b[39m,\n\u001b[1;32m      7\u001b[0m                             c\u001b[38;5;241m=\u001b[39m\u001b[38;5;124m'\u001b[39m\u001b[38;5;124mred\u001b[39m\u001b[38;5;124m'\u001b[39m)\n",
      "File \u001b[0;32m~/software/anaconda3/lib/python3.9/site-packages/pandas/core/generic.py:5575\u001b[0m, in \u001b[0;36mNDFrame.__getattr__\u001b[0;34m(self, name)\u001b[0m\n\u001b[1;32m   5568\u001b[0m \u001b[38;5;28;01mif\u001b[39;00m (\n\u001b[1;32m   5569\u001b[0m     name \u001b[38;5;129;01mnot\u001b[39;00m \u001b[38;5;129;01min\u001b[39;00m \u001b[38;5;28mself\u001b[39m\u001b[38;5;241m.\u001b[39m_internal_names_set\n\u001b[1;32m   5570\u001b[0m     \u001b[38;5;129;01mand\u001b[39;00m name \u001b[38;5;129;01mnot\u001b[39;00m \u001b[38;5;129;01min\u001b[39;00m \u001b[38;5;28mself\u001b[39m\u001b[38;5;241m.\u001b[39m_metadata\n\u001b[1;32m   5571\u001b[0m     \u001b[38;5;129;01mand\u001b[39;00m name \u001b[38;5;129;01mnot\u001b[39;00m \u001b[38;5;129;01min\u001b[39;00m \u001b[38;5;28mself\u001b[39m\u001b[38;5;241m.\u001b[39m_accessors\n\u001b[1;32m   5572\u001b[0m     \u001b[38;5;129;01mand\u001b[39;00m \u001b[38;5;28mself\u001b[39m\u001b[38;5;241m.\u001b[39m_info_axis\u001b[38;5;241m.\u001b[39m_can_hold_identifiers_and_holds_name(name)\n\u001b[1;32m   5573\u001b[0m ):\n\u001b[1;32m   5574\u001b[0m     \u001b[38;5;28;01mreturn\u001b[39;00m \u001b[38;5;28mself\u001b[39m[name]\n\u001b[0;32m-> 5575\u001b[0m \u001b[38;5;28;01mreturn\u001b[39;00m \u001b[38;5;28;43mobject\u001b[39;49m\u001b[38;5;241;43m.\u001b[39;49m\u001b[38;5;21;43m__getattribute__\u001b[39;49m\u001b[43m(\u001b[49m\u001b[38;5;28;43mself\u001b[39;49m\u001b[43m,\u001b[49m\u001b[43m \u001b[49m\u001b[43mname\u001b[49m\u001b[43m)\u001b[49m\n",
      "\u001b[0;31mAttributeError\u001b[0m: 'Series' object has no attribute 'reshape'"
     ]
    }
   ],
   "source": [
    "graph_preds(np.array(test_y),np.array(preds))"
   ]
  },
  {
   "cell_type": "code",
   "execution_count": null,
   "id": "f863b4b2-b97b-4fbb-a19f-7a700d120644",
   "metadata": {},
   "outputs": [],
   "source": []
  },
  {
   "cell_type": "code",
   "execution_count": null,
   "id": "629b3564-f0a9-4a25-a85c-30474010588a",
   "metadata": {},
   "outputs": [],
   "source": [
    "full_outcomes = raw_df.loc[:,'savings_account':'new_direct_debit']"
   ]
  },
  {
   "cell_type": "code",
   "execution_count": null,
   "id": "dc4fa0b1-daf1-4827-aa71-9924511b969c",
   "metadata": {},
   "outputs": [],
   "source": [
    "outcomes = raw_df.loc[:,'savings_account':'direct_debit']"
   ]
  },
  {
   "cell_type": "code",
   "execution_count": null,
   "id": "41c8d838-6959-4b22-b33a-c4ccf2f8311d",
   "metadata": {},
   "outputs": [],
   "source": [
    "new_outcomes = raw_df.loc[:,'new_savings_account':'new_direct_debit']"
   ]
  },
  {
   "cell_type": "code",
   "execution_count": null,
   "id": "fec061c0-6c36-4950-adc4-36527cfe67b7",
   "metadata": {},
   "outputs": [],
   "source": [
    "full_outcomes = full_outcomes.fillna(full_outcomes.mean())"
   ]
  },
  {
   "cell_type": "code",
   "execution_count": null,
   "id": "a01f284f",
   "metadata": {},
   "outputs": [],
   "source": [
    "income_X = raw_df.loc[:,'income'].rename('income')"
   ]
  },
  {
   "cell_type": "code",
   "execution_count": null,
   "id": "bdab773a-59c2-4ac1-80b1-486fd237cff4",
   "metadata": {},
   "outputs": [],
   "source": [
    "Xs = raw_df.drop(columns='income')"
   ]
  },
  {
   "cell_type": "code",
   "execution_count": null,
   "id": "7aa3b165-eda1-4740-aa4d-2b8a02e31e88",
   "metadata": {},
   "outputs": [],
   "source": [
    "def get_heatmap(df):\n",
    "    fig, ax = plt.subplots(figsize=(15,12))\n",
    "    sns.heatmap(df.corr(),ax=ax)\n",
    "    plt.show()"
   ]
  },
  {
   "cell_type": "code",
   "execution_count": null,
   "id": "618d0ee1-9a18-4900-acac-04f360b65b79",
   "metadata": {},
   "outputs": [],
   "source": [
    "get_heatmap(full_outcomes.corr()) # white bars come from singleton responses (ie everyone responded with 0 or 1)"
   ]
  },
  {
   "cell_type": "markdown",
   "id": "2ed4837d-0178-4cb1-82a4-a52ae76e5737",
   "metadata": {},
   "source": [
    "From this preliminary analysis, we are able to see that \n",
    "\n",
    "1. current_account is negatively correlated with payroll and derivative_account.\n",
    "2. There are certain \"product mixes\" in the pooled sample. Meaning that if an indiviudal has a pension account, it is likely that they will also have a home_account, loans, and morgage accounts.\n",
    "3. having a payroll_account this period is associated with a higher chance of getting a new_home_account and new_credit_card.\n",
    "4. there are autocorrelations between account openings. If there are more account A opened this month, there is a higher than random chance that more of the same type of account will also be opened in the next period\n",
    "5. If people have a current credit card, there will be a higher than random chance that they will get a new credit card in the next period\n",
    "6. credit_cards and tax accounts are positively correlated with new pension and payroll accounts. Potentially signaling that if individuals income changes, they would begin to purchase more financial products."
   ]
  },
  {
   "cell_type": "code",
   "execution_count": null,
   "id": "7b00f802-db8d-4d30-a941-57b5c3dd842e",
   "metadata": {},
   "outputs": [],
   "source": [
    "credit_card = raw_df.credit_card"
   ]
  },
  {
   "cell_type": "code",
   "execution_count": null,
   "id": "0f9a9675-a223-4099-89f2-a973e1424dcd",
   "metadata": {},
   "outputs": [],
   "source": [
    "cc_t = raw_df.groupby('fetch_date')['credit_card'].mean().rename('t')\n",
    "cc_t1 = cc_t.shift(1)"
   ]
  },
  {
   "cell_type": "code",
   "execution_count": null,
   "id": "bdbd3340-b84d-4e1e-a6ce-937966f22220",
   "metadata": {},
   "outputs": [],
   "source": [
    "ser = cc_t - cc_t1"
   ]
  },
  {
   "cell_type": "code",
   "execution_count": null,
   "id": "5c552af6-261e-496d-82c6-0676afa143b5",
   "metadata": {},
   "outputs": [],
   "source": [
    "ser.plot()"
   ]
  },
  {
   "cell_type": "code",
   "execution_count": null,
   "id": "8a91df06-38b7-464e-a7f7-35ea8cad301e",
   "metadata": {},
   "outputs": [],
   "source": [
    "cc_t1"
   ]
  },
  {
   "cell_type": "code",
   "execution_count": null,
   "id": "3d98d088-4634-409f-aaad-3c00e86e6598",
   "metadata": {},
   "outputs": [],
   "source": [
    "pd.DataFrame(cc_t).join(cc_t1)"
   ]
  },
  {
   "cell_type": "code",
   "execution_count": null,
   "id": "3e69b708-e367-4d66-94ea-f234d658fc0c",
   "metadata": {},
   "outputs": [],
   "source": [
    "credit_card.shift(1)"
   ]
  },
  {
   "cell_type": "code",
   "execution_count": null,
   "id": "c803de1d-f8b0-4ea6-ab21-76be3f37f131",
   "metadata": {},
   "outputs": [],
   "source": [
    "def get_uniques(df):\n",
    "    for col in df:\n",
    "        print(f'{col} has values: {df[col].value_counts()}')\n",
    "        print(f'{col} has {df[col].isna().sum()} NAs')\n",
    "        print('---000---000---')"
   ]
  },
  {
   "cell_type": "markdown",
   "id": "6a26189b-1e05-4008-8308-a266d1f49cdd",
   "metadata": {},
   "source": [
    "### Can we use fiancial products to reversely explain income?"
   ]
  },
  {
   "cell_type": "code",
   "execution_count": null,
   "id": "27bcda44-3bb8-4e27-a28a-04ec3938ee11",
   "metadata": {},
   "outputs": [],
   "source": [
    "from sklearn.model_selection import train_test_split\n",
    "\n",
    "import statsmodels.api as sm\n",
    "from statsmodels.regression.linear_model import OLS\n",
    "\n",
    "from sklearn.impute import SimpleImputer\n",
    "from sklearn.preprocessing import OneHotEncoder, MinMaxScaler\n",
    "from sklearn.pipeline import Pipeline"
   ]
  },
  {
   "cell_type": "code",
   "execution_count": null,
   "id": "f0351fb2-81cd-46b4-b273-eb7f050e3523",
   "metadata": {},
   "outputs": [],
   "source": []
  },
  {
   "cell_type": "code",
   "execution_count": null,
   "id": "57f470a8-82c2-4669-8cfe-68c4f0cead06",
   "metadata": {},
   "outputs": [],
   "source": [
    "from sklearn.compose import ColumnTransformer"
   ]
  },
  {
   "cell_type": "code",
   "execution_count": null,
   "id": "77060804-690f-4e74-a85d-fd03decf18d1",
   "metadata": {},
   "outputs": [],
   "source": [
    "def transform_y(y):\n",
    "    return numeric_pipe.fit_transform(np.array(y).reshape(-1, 1))"
   ]
  },
  {
   "cell_type": "code",
   "execution_count": null,
   "id": "2ffa23a1-474a-494a-b99a-4368f35b6c93",
   "metadata": {},
   "outputs": [],
   "source": [
    "def split_col_types(Xs):\n",
    "    #Xs.describe(include=object).T #13 object classes\n",
    "    #obj_Xs = Xs.describe(include=object).T.index.tolist()\n",
    "    obj_Xs = Xs.drop(columns=['age','cust_seniority']).columns.tolist()\n",
    "    #num_Xs = X_train.select_dtypes(include='number').columns.tolist()\n",
    "    num_Xs = ['age','cust_seniority']\n",
    "    \n",
    "    return num_Xs, obj_Xs"
   ]
  },
  {
   "cell_type": "code",
   "execution_count": null,
   "id": "3fc7fcf0-a129-4b30-b890-f5314238787a",
   "metadata": {},
   "outputs": [],
   "source": [
    "def construct_lasso_estimator(alpha,processor):\n",
    "    from sklearn.linear_model import Lasso\n",
    "    from sklearn.metrics import mean_absolute_error\n",
    "\n",
    "    lasso = Lasso(alpha=alpha)\n",
    "\n",
    "    lasso_pipe = Pipeline(steps=[\n",
    "        ('preprocess',processor),\n",
    "        ('model',lasso)\n",
    "    ])"
   ]
  },
  {
   "cell_type": "code",
   "execution_count": null,
   "id": "b60b06d2-6b91-4b47-b6d3-12d45f99b823",
   "metadata": {},
   "outputs": [],
   "source": [
    "def score_model(X_train, X_valid, y_train, y_valid):\n",
    "    \n",
    "    print(X_train.columns)\n",
    "    \n",
    "    y_train_colvec = transform_y(y_train)\n",
    "    y_valid_colvec = transform_y(y_valid)\n",
    "\n",
    "    fitted_lasso = lasso_pipe.fit(X_train,y_train_colvec)\n",
    "    preds = lasso_pipe.predict(X_valid)\n",
    "\n",
    "    mae = mean_absolute_error(y_valid_colvec,preds)\n",
    "    score = lasso_pipe.score(X_valid,y_valid_colvec)\n",
    "\n",
    "    print(f'the model has \\n\\tScore of: {score}\\n\\tMAE of: {mae}')"
   ]
  },
  {
   "cell_type": "code",
   "execution_count": null,
   "id": "dbcac592-26e4-4b24-b6f2-9032b0ae1b98",
   "metadata": {},
   "outputs": [],
   "source": [
    "def run_model(frac=0.1,alpha=1e-3,graphing=True):\n",
    "    \n",
    "    #defining a subsample to run tests, 1 if include all\n",
    "    n_df = raw_df.sample(frac=frac)\n",
    "    \n",
    "    #splitting the independent variables and the y variables\n",
    "    Xs = n_df.drop(columns=['income','Unnamed: 0','cust_code'],axis=1)\n",
    "    y = n_df.income\n",
    "\n",
    "    #train-test split\n",
    "    X_train, X_valid, y_train, y_valid = train_test_split(Xs, \n",
    "                                                          y, \n",
    "                                                          test_size=.3,\n",
    "                                                          random_state=1029)\n",
    "    \n",
    "    obj_Xs = Xs.drop(columns=['age','cust_seniority']).columns.tolist()\n",
    "    num_Xs = ['age','cust_seniority']\n",
    "\n",
    "    numeric_pipe = Pipeline(steps=[\n",
    "        ('imputing mean', SimpleImputer(strategy='mean')),\n",
    "        ('scale', MinMaxScaler())\n",
    "    ])\n",
    "\n",
    "    categorical_pipe = Pipeline(steps=[\n",
    "        ('impute', SimpleImputer(strategy='most_frequent')),\n",
    "        ('one_hot', OneHotEncoder(handle_unknown='ignore',sparse=False))\n",
    "    ])\n",
    "\n",
    "    processor = ColumnTransformer(transformers=[\n",
    "        ('numerical',numeric_pipe,num_Xs),\n",
    "        ('categorical',categorical_pipe,obj_Xs)\n",
    "    ])\n",
    "    \n",
    "    #\n",
    "    \n",
    "    from sklearn.linear_model import Lasso\n",
    "    from sklearn.metrics import mean_absolute_error\n",
    "\n",
    "    lasso = Lasso(alpha=alpha)\n",
    "\n",
    "    lasso_pipe = Pipeline(steps=[\n",
    "        ('preprocess',processor),\n",
    "        ('model',lasso)\n",
    "    ])\n",
    "    \n",
    "    #\n",
    "    \n",
    "    y_train_colvec = transform_y(y_train)\n",
    "    y_valid_colvec = transform_y(y_valid)\n",
    "\n",
    "    fitted_lasso = lasso_pipe.fit(X_train,y_train_colvec)\n",
    "    preds = lasso_pipe.predict(X_valid)\n",
    "\n",
    "    mae = mean_absolute_error(y_valid_colvec,preds)\n",
    "    score = lasso_pipe.score(X_valid,y_valid_colvec)\n",
    "\n",
    "    print(f'the model has \\n\\tScore of: {score}\\n\\tMAE of: {mae}')\n",
    "    \n",
    "    print(num_Xs)\n",
    "    print(obj_Xs)\n",
    "    #construct_lasso_estimator(alpha, processor)\n",
    "    #score_model(X_train, X_valid, y_train, y_valid)\n",
    "    if graphing:\n",
    "        graph_preds(y_valid_colvec,preds)\n",
    "        get_top_features(lasso_pipe,obj_Xs,num_Xs)"
   ]
  },
  {
   "cell_type": "code",
   "execution_count": null,
   "id": "d504c48b-7a76-4db5-a13d-c8d6e6a2d9b3",
   "metadata": {},
   "outputs": [],
   "source": [
    "run_model(frac=0.5,alpha=1e-6)"
   ]
  },
  {
   "cell_type": "code",
   "execution_count": null,
   "id": "4dfd2e42-1e0f-4e62-94f2-92851b874bc4",
   "metadata": {},
   "outputs": [],
   "source": [
    "run_model(frac=0.5,alpha=1e-6)"
   ]
  },
  {
   "cell_type": "markdown",
   "id": "4b461ed7-792a-40a4-b3f7-0f37e0d0229e",
   "metadata": {},
   "source": [
    "1. Select a few important features (X), and plot it against (y)\n",
    "2. Then look at the interaction between Xs (X_1, X_2)\n",
    "3. Outliers, visualization, overfitting, feature selection, preprocessing steps\n",
    "\n",
    "Prove that there is no temporal link\n",
    "\n",
    "If classification -> 0.8\n",
    "If regression -> depends lol\n",
    "\n",
    "Train and test has to be classified "
   ]
  },
  {
   "cell_type": "code",
   "execution_count": null,
   "id": "fb093545-c9e1-406d-a5fa-e42d4a51e788",
   "metadata": {},
   "outputs": [],
   "source": [
    "def get_top_features(lasso_pipe,obj_Xs,num_Xs):\n",
    "    \n",
    "    #get the categorical names\n",
    "    cat_colnames = lasso_pipe.named_steps['preprocess'].transformers_[1][1]\\\n",
    "       .named_steps['one_hot'].get_feature_names(obj_Xs).tolist()\n",
    "    \n",
    "    #creating list of all features\n",
    "    all_cols = np.concatenate([num_Xs,cat_colnames])\n",
    "    \n",
    "    #creating coefficient plot for important features\n",
    "    coef = lasso_pipe.named_steps['model'].coef_.flatten()\n",
    "    coef_df = pd.DataFrame(zip(all_cols, coef), columns=[\"feature\", \"coef\"])\n",
    "    coef_df[\"abs_coef\"] = coef_df[\"coef\"].apply(lambda x: abs(x))\n",
    "    coef_df[\"colors\"] = coef_df[\"coef\"].apply(lambda x: \"green\" if x > 0 else \"red\")\n",
    "    coef_df = coef_df.sort_values(\"abs_coef\", ascending=False)\n",
    "    \n",
    "    #graphing important features\n",
    "    # Plot coef\n",
    "    import matplotlib.pyplot as plt\n",
    "    import seaborn as sns\n",
    "    %matplotlib inline\n",
    "    fig, ax = plt.subplots(1, 1, figsize=(12, 7))\n",
    "    sns.barplot(x=\"feature\",\n",
    "                y=\"coef\",\n",
    "                data=coef_df.head(20),\n",
    "               palette=coef_df.head(20)[\"colors\"])\n",
    "    ax.set_xticklabels(ax.get_xticklabels(), rotation=90, fontsize=20)\n",
    "    ax.set_title(\"Top 20 Features\", fontsize=25)\n",
    "    ax.set_ylabel(\"Coef\", fontsize=22)\n",
    "    ax.set_xlabel(\"Feature Name\", fontsize=22)"
   ]
  },
  {
   "cell_type": "code",
   "execution_count": null,
   "id": "ee6589e6-6390-40be-8288-b6e5563d2aa8",
   "metadata": {},
   "outputs": [],
   "source": [
    "cat_colnames = lasso_pipe.named_steps['preprocess'].transformers_[1][1]\\\n",
    "   .named_steps['one_hot'].get_feature_names(obj_Xs).tolist()"
   ]
  },
  {
   "cell_type": "code",
   "execution_count": null,
   "id": "b6a7b0f2-2f74-410b-b8fa-3f12d88f1fa9",
   "metadata": {},
   "outputs": [],
   "source": [
    "all_cols = np.concatenate([num_Xs,cat_colnames])"
   ]
  },
  {
   "cell_type": "code",
   "execution_count": null,
   "id": "57a84fe3-688d-4387-9d8a-08e80ee2fee5",
   "metadata": {},
   "outputs": [],
   "source": [
    "len(all_cols)"
   ]
  },
  {
   "cell_type": "code",
   "execution_count": null,
   "id": "3ef16980-586e-4bc2-a12d-cd13eb153b9e",
   "metadata": {},
   "outputs": [],
   "source": [
    "len(cat_colnames)"
   ]
  },
  {
   "cell_type": "code",
   "execution_count": null,
   "id": "a7a0f718-5f98-4155-9c52-a1ceb13e5629",
   "metadata": {},
   "outputs": [],
   "source": [
    "coef = lasso_pipe.named_steps['model'].coef_.flatten()"
   ]
  },
  {
   "cell_type": "code",
   "execution_count": null,
   "id": "46d9435e-6c24-474d-a793-51b899a5f522",
   "metadata": {},
   "outputs": [],
   "source": [
    "coef_df = pd.DataFrame(zip(all_cols, coef), columns=[\"feature\", \"coef\"])"
   ]
  },
  {
   "cell_type": "code",
   "execution_count": null,
   "id": "a6214340-770a-45d2-a390-7dceee0aaa57",
   "metadata": {},
   "outputs": [],
   "source": [
    "coef_df[\"abs_coef\"] = coef_df[\"coef\"].apply(lambda x: abs(x))\n",
    "coef_df[\"colors\"] = coef_df[\"coef\"].apply(lambda x: \"green\" if x > 0 else \"red\")\n",
    "coef_df = coef_df.sort_values(\"abs_coef\", ascending=False)"
   ]
  },
  {
   "cell_type": "markdown",
   "id": "f897d2f8-31ff-4a38-9caa-0fb68d01c642",
   "metadata": {},
   "source": [
    "cust_code, prov_code, activity_index, segmentation needs to be converted to categorical"
   ]
  },
  {
   "cell_type": "code",
   "execution_count": null,
   "id": "ad3466af-dd56-409d-b50c-c20b16704278",
   "metadata": {},
   "outputs": [],
   "source": [
    "num_Xs"
   ]
  },
  {
   "cell_type": "code",
   "execution_count": null,
   "id": "c59553bb-f439-485a-9260-da998c293f7d",
   "metadata": {},
   "outputs": [],
   "source": [
    "# Plot coef\n",
    "import matplotlib.pyplot as plt\n",
    "import seaborn as sns\n",
    "%matplotlib inline\n",
    "fig, ax = plt.subplots(1, 1, figsize=(12, 7))\n",
    "sns.barplot(x=\"feature\",\n",
    "            y=\"coef\",\n",
    "            data=coef_df.head(20),\n",
    "           palette=coef_df.head(20)[\"colors\"])\n",
    "ax.set_xticklabels(ax.get_xticklabels(), rotation=90, fontsize=20)\n",
    "ax.set_title(\"Top 20 Features\", fontsize=25)\n",
    "ax.set_ylabel(\"Coef\", fontsize=22)\n",
    "ax.set_xlabel(\"Feature Name\", fontsize=22)"
   ]
  },
  {
   "cell_type": "code",
   "execution_count": null,
   "id": "7a208c2a-c79d-4144-938a-dbc3b9a89ede",
   "metadata": {},
   "outputs": [],
   "source": [
    "importance = np.abs(coef)\n",
    "np.array(Xs.columns)[importance>0]"
   ]
  },
  {
   "cell_type": "code",
   "execution_count": null,
   "id": "5517849c-c924-4491-8f5a-89ef581a1d87",
   "metadata": {},
   "outputs": [],
   "source": [
    "np.count_nonzero(importance)"
   ]
  },
  {
   "cell_type": "markdown",
   "id": "3ac0c5e6-3c59-43b0-9d6c-e16d5d5a9f96",
   "metadata": {},
   "source": [
    "### Pipeline Building"
   ]
  },
  {
   "cell_type": "markdown",
   "id": "29168d48-2ccc-405e-ab62-70c4d0a690dc",
   "metadata": {},
   "source": [
    "### Construct Lasso Estimator"
   ]
  },
  {
   "cell_type": "code",
   "execution_count": null,
   "id": "43808b3f-db97-49a1-867d-2e16578b9197",
   "metadata": {},
   "outputs": [],
   "source": [
    "graph_preds(y_valid_colvec,preds)"
   ]
  }
 ],
 "metadata": {
  "kernelspec": {
   "display_name": "Python 3 (ipykernel)",
   "language": "python",
   "name": "python3"
  },
  "language_info": {
   "codemirror_mode": {
    "name": "ipython",
    "version": 3
   },
   "file_extension": ".py",
   "mimetype": "text/x-python",
   "name": "python",
   "nbconvert_exporter": "python",
   "pygments_lexer": "ipython3",
   "version": "3.9.12"
  }
 },
 "nbformat": 4,
 "nbformat_minor": 5
}
