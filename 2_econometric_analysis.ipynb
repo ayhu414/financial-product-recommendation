{
 "cells": [
  {
   "cell_type": "markdown",
   "id": "eea543fa-5f3b-4534-a5be-256a6311092f",
   "metadata": {},
   "source": [
    "<h1> ML Methods for Financial Product Prediction </h1>\n",
    "<h3> <emph> Project by: System Breakers </emph> </h3>\n",
    "<h4> Yumeng Du, Yi Gong, Allen (Yi Xin) Hu, Jielin (Katherine) Mao, Zhiyuan Ren </h4>\n",
    "\n",
    "Having the suitable financial products is critical for consumer's financial well-being, as well as profit generation for banks around the world. In this project, we use a real-world dataset provided by Santander (Spanish bank) to predict whether or not an individual will likely open-up a new credit card account with the bank. "
   ]
  },
  {
   "cell_type": "markdown",
   "id": "8fd254dc-d351-4a2b-a52f-abdaa9879563",
   "metadata": {},
   "source": [
    "The following notebook will be split into 2 main sections.\n",
    "\n",
    "1. Data Processing\n",
    "2. ML Prediction\n",
    "3. Results and Discussion"
   ]
  },
  {
   "cell_type": "code",
   "execution_count": 1,
   "id": "80609c48-1568-45f2-9ac0-5cedaf07688c",
   "metadata": {},
   "outputs": [],
   "source": [
    "%matplotlib inline\n",
    "#data importing related packages\n",
    "import zipfile\n",
    "import pandas as pd\n",
    "import numpy as np\n",
    "\n",
    "#visualization packages\n",
    "import seaborn as sns\n",
    "import matplotlib.pyplot as plt\n",
    "\n",
    "#data processing ml packages\n",
    "from sklearn.impute import SimpleImputer\n",
    "from sklearn.preprocessing import OneHotEncoder, MinMaxScaler\n",
    "from sklearn.pipeline import Pipeline\n",
    "from sklearn import set_config\n",
    "set_config(display=\"diagram\")\n",
    "from sklearn.compose import ColumnTransformer\n",
    "from sklearn.model_selection import train_test_split\n",
    "\n",
    "#ml packages\n",
    "from sklearn.decomposition import PCA\n",
    "from sklearn.linear_model import LogisticRegression\n",
    "from sklearn.linear_model import LassoCV\n",
    "\n",
    "#model evaluation packages\n",
    "from sklearn.model_selection import cross_val_score\n",
    "from sklearn.metrics import mean_absolute_error\n",
    "from sklearn.metrics import plot_roc_curve\n",
    "from sklearn.model_selection import cross_val_score"
   ]
  },
  {
   "cell_type": "markdown",
   "id": "7ede62ee-5f99-459d-b4ef-5680e2625930",
   "metadata": {
    "tags": []
   },
   "source": [
    "<h2> Data/Feature Processing </h2>"
   ]
  },
  {
   "cell_type": "markdown",
   "id": "a594af52-513a-4fc8-b88b-ce1bc9d36174",
   "metadata": {},
   "source": [
    "The main challenges of this part of our project is 3 fold:\n",
    "1. Unbalanced response variable (25:1 unbalance ratio)\n",
    "2. Primarily binary explainatory variables (do not have enough continuity)\n",
    "3. General issues with missing values \n",
    "4. Large sum of data, cannot be run cheaply on a local machine"
   ]
  },
  {
   "cell_type": "markdown",
   "id": "fa2e7810-482c-497a-a3e4-2bc6d266d583",
   "metadata": {},
   "source": [
    "To address these issues, we will conduct the following apprach:\n",
    "\n",
    "1. To simultaniously deal with issue 1) and 4), we decide to downsample the data by randomly selecting the same amount of rows from the majority class to match the amount of rows in the minority class. We find that downsampling does not reduce the data efficiency as the inherent size of the data is very large\n",
    "2. To\n",
    "3. To deal with issue 2), we conduct PCA pre-analysis to reintroduce continuity into the data and significantly reduce the amount of binary columns that we have to deal with. This drastically increases our model's accuracy as well as decrease the cost of running the model itself\n",
    "4. To deal with issue 3), we use a simple imputation method deal with missing values. While removing NA values would also be valid due to the large data size, the non-systematic presense of NA values will force us to cut down a surprising amount of our data, therefore we opted for imputation rather than removal."
   ]
  },
  {
   "cell_type": "code",
   "execution_count": 2,
   "id": "87967a4d-1d8e-44fe-a2ff-6a1de43af29c",
   "metadata": {},
   "outputs": [],
   "source": [
    "#loading the data into the notebook\n",
    "zf = zipfile.ZipFile('train0328.csv.zip')\n",
    "df_train_raw = pd.read_csv(zf.open('train0328.csv'),low_memory=False)\n",
    "zf = zipfile.ZipFile('test0428.csv.zip')\n",
    "df_test_raw = pd.read_csv(zf.open('test0428.csv'),low_memory=False)\n",
    "\n",
    "df_train_raw.set_index('cust_code',inplace=True)\n",
    "df_test_raw.set_index('cust_code',inplace=True)\n",
    "\n",
    "#Note: even taking 5% of our data,\n",
    "# we are still able to get over 45,000 rows \n",
    "df_train = df_train_raw.sample(frac=0.05)\n",
    "df_test = df_test_raw.sample(frac=0.05)"
   ]
  },
  {
   "cell_type": "code",
   "execution_count": 3,
   "id": "fa3309ea-896b-42f0-9e11-a2c16e763147",
   "metadata": {},
   "outputs": [],
   "source": [
    "assert df_train.shape[1] == df_test.shape[1]"
   ]
  },
  {
   "cell_type": "markdown",
   "id": "2e58f3b9-631a-40eb-938b-2e062273bcc3",
   "metadata": {},
   "source": [
    "<h3> Downsampling the data </h3>\n",
    "\n",
    "In this step, we define a function which allows us to balance out our response variable (or class/label variable) by downsampling our majority class to the same size as our minority class. This has no data size related issues as our dataset is large."
   ]
  },
  {
   "cell_type": "code",
   "execution_count": 4,
   "id": "4072cc94-dbac-4608-a0de-ff6b5f67fe55",
   "metadata": {},
   "outputs": [],
   "source": [
    "def downsampling(df,class_,keys=None):\n",
    "    \"\"\"\n",
    "    returns a dataframe that is downsampled\n",
    "    and with nas removed\n",
    "    \"\"\"\n",
    "    \n",
    "    class_1_df = df[df[class_]==1]\n",
    "    class_0_df = df[df[class_]==0]\n",
    "    \n",
    "    #print(class_0_df[class_].isna().any())\n",
    "    #print(class_1_df[class_].isna().any())\n",
    "    \n",
    "    n_class_1 = class_1_df.shape[0]\n",
    "    n_class_0 = class_0_df.shape[0]\n",
    "    n_samples = min(n_class_1,n_class_0)\n",
    "        \n",
    "    from sklearn.utils import resample\n",
    "    if n_class_0 <= n_class_1:\n",
    "        downsample = resample(class_1_df,\n",
    "                                replace=False,\n",
    "                                n_samples=n_class_0,\n",
    "                                random_state=42)\n",
    "        ret_df = pd.concat([class_0_df,downsample],keys=keys)\n",
    "            \n",
    "    else:\n",
    "        downsample = resample(class_0_df,\n",
    "                                replace=False,\n",
    "                                n_samples=n_class_1,\n",
    "                                random_state=42)\n",
    "        ret_df = pd.concat([downsample,class_1_df],keys=keys)\n",
    "        \n",
    "    return ret_df.reset_index().drop(columns='level_0')"
   ]
  },
  {
   "cell_type": "code",
   "execution_count": 5,
   "id": "9590e37f-e7d1-46df-be07-35627282f4f2",
   "metadata": {},
   "outputs": [],
   "source": [
    "#downsampling the training set\n",
    "df_train_ds = downsampling(df_train,'new_credit_card',['no_cc','cc']).set_index('cust_code')\n",
    "\n",
    "#sanity check for inconsistencies in downsamplings\n",
    "assert df_train_ds.shape[1] == df_test.shape[1]\n",
    "assert set(df_train_ds.columns) - set(df_test.columns) == set()"
   ]
  },
  {
   "cell_type": "markdown",
   "id": "b5ee8a1c-5ea0-4ec7-ac67-36f5e845a771",
   "metadata": {},
   "source": [
    "Now we move on to creating our tuning （aka 'full_train') and validation (aka 'final_test) dataframes. "
   ]
  },
  {
   "cell_type": "code",
   "execution_count": 1,
   "id": "b0a87bc0-1797-4a37-9fc5-232fa026ae23",
   "metadata": {},
   "outputs": [
    {
     "ename": "NameError",
     "evalue": "name 'full_train_Xs' is not defined",
     "output_type": "error",
     "traceback": [
      "\u001b[0;31m---------------------------------------------------------------------------\u001b[0m",
      "\u001b[0;31mNameError\u001b[0m                                 Traceback (most recent call last)",
      "Input \u001b[0;32mIn [1]\u001b[0m, in \u001b[0;36m<cell line: 1>\u001b[0;34m()\u001b[0m\n\u001b[0;32m----> 1\u001b[0m \u001b[43mfull_train_Xs\u001b[49m\n",
      "\u001b[0;31mNameError\u001b[0m: name 'full_train_Xs' is not defined"
     ]
    }
   ],
   "source": [
    "full_train_Xs"
   ]
  },
  {
   "cell_type": "code",
   "execution_count": 6,
   "id": "ed7552b6-dcdc-40dc-9cf0-150e477d4bb2",
   "metadata": {},
   "outputs": [],
   "source": [
    "dropping = ['new_credit_card','next_credit_card','fetch_date','Unnamed: 0','prov_code']\n",
    "df_test_filtered = df_test[df_test.loc[:,'new_credit_card']<2]\n",
    "\n",
    "full_train_Xs = df_train_ds.drop(columns=dropping)\n",
    "full_train_y = df_train_ds.loc[:,'new_credit_card']\n",
    "\n",
    "final_test_Xs = df_test_filtered.drop(columns=dropping)\n",
    "final_test_y = df_test_filtered.loc[:,'new_credit_card']\n",
    "\n",
    "#sanity check for dataframe reshaping\n",
    "assert full_train_Xs.shape[1] == final_test_Xs.shape[1]\n",
    "assert final_test_y.shape[0] == final_test_Xs.shape[0]\n",
    "assert full_train_y.shape[0] == full_train_Xs.shape[0]"
   ]
  },
  {
   "cell_type": "markdown",
   "id": "346cb66b-0045-480a-a50a-c22f9eb5f6a3",
   "metadata": {},
   "source": [
    "<h3> Imputation/OHE pipeline </h3>\n",
    "\n",
    "In this step, we define a preprocessing pipeline to deal with missing values as well as one-hot encode our categorical variables. We find that once the one-hot encoding is conducted, our dataframe size explodes. This combined with a unhealthy amount of binary columns naturally lends itself to PCA, which follows this step."
   ]
  },
  {
   "cell_type": "code",
   "execution_count": 7,
   "id": "e6de03f7-0619-4da9-84af-9caaee4cc43a",
   "metadata": {},
   "outputs": [],
   "source": [
    "obj_Xs = full_train_Xs.drop(columns=['age','cust_seniority','income']).columns.tolist()\n",
    "num_Xs = ['age','cust_seniority','income']\n",
    "\n",
    "categorical_pipe = Pipeline(steps=[\n",
    "        ('impute', SimpleImputer(strategy='most_frequent')),\n",
    "        ('one_hot', OneHotEncoder(handle_unknown='ignore',sparse=False,dtype='int'))\n",
    "    ])\n",
    "\n",
    "numeric_pipe = Pipeline(steps=[\n",
    "        ('impute mean', SimpleImputer(strategy='mean')),\n",
    "        ('scale', MinMaxScaler())\n",
    "    ])\n",
    "\n",
    "preprocessor = ColumnTransformer(transformers=[\n",
    "        ('categorical',categorical_pipe,obj_Xs),\n",
    "        ('numerical',numeric_pipe,num_Xs)\n",
    "    ])"
   ]
  },
  {
   "cell_type": "code",
   "execution_count": 8,
   "id": "ba01c03f-1c55-4b8e-b564-8152b2a69e32",
   "metadata": {},
   "outputs": [],
   "source": [
    "from sklearn.model_selection import train_test_split\n",
    "train_Xs, test_Xs, train_y, test_y = train_test_split(full_train_Xs,\n",
    "                                                      full_train_y,\n",
    "                                                      test_size=0.4,\n",
    "                                                      random_state=42,\n",
    "                                                      stratify=full_train_y)"
   ]
  },
  {
   "cell_type": "markdown",
   "id": "1b30cd7a-1811-4cb9-900a-f85019bbba25",
   "metadata": {},
   "source": [
    "Please note that fit_transform and transform are completely different, as we only fit_transform our training data, but we must only transform or test and validation (final_test_Xs),"
   ]
  },
  {
   "cell_type": "code",
   "execution_count": 9,
   "id": "111aea20-ffb1-46aa-a072-2bba4a051993",
   "metadata": {},
   "outputs": [],
   "source": [
    "pp_train_Xs = preprocessor.fit_transform(train_Xs)"
   ]
  },
  {
   "cell_type": "code",
   "execution_count": 10,
   "id": "b17b045a-1c4e-4336-acd1-84198ffdabb6",
   "metadata": {},
   "outputs": [],
   "source": [
    "pp_test_Xs = preprocessor.transform(test_Xs)\n",
    "pp_final_Xs = preprocessor.transform(final_test_Xs)\n",
    "\n",
    "#sanity check for the number of columns for each dataframe\n",
    "assert pp_test_Xs.shape[1] == pp_train_Xs.shape[1] == pp_final_Xs.shape[1]"
   ]
  },
  {
   "cell_type": "markdown",
   "id": "eb0fe790-da2d-4b91-a2b6-07a2951c5dc1",
   "metadata": {},
   "source": [
    "Now that we are finished with our data processing, we will move on to reducing the parameters by using PCA\n",
    "\n",
    "And creating a pipeline with all the components:"
   ]
  },
  {
   "cell_type": "code",
   "execution_count": 35,
   "id": "d7c424c7-5efe-4366-bd1e-4ecffb148912",
   "metadata": {},
   "outputs": [],
   "source": [
    "from sklearn.decomposition import PCA\n",
    "pca = PCA(.95)"
   ]
  },
  {
   "cell_type": "code",
   "execution_count": 28,
   "id": "410cd892-3cb5-40bb-b9c6-ce948df765ba",
   "metadata": {},
   "outputs": [],
   "source": [
    "from sklearn.linear_model import LogisticRegression\n",
    "logisticRegr = LogisticRegression(solver = 'lbfgs')"
   ]
  },
  {
   "cell_type": "code",
   "execution_count": 30,
   "id": "2f1d0ab2-1eca-431e-9101-5066618ec62e",
   "metadata": {},
   "outputs": [],
   "source": [
    "logit_pipe = Pipeline(steps=[\n",
    "    ('preprocessing',preprocessor),\n",
    "    ('pca',pca),\n",
    "    ('logit',logisticRegr)\n",
    "])"
   ]
  },
  {
   "cell_type": "code",
   "execution_count": 38,
   "id": "47c31c16-2996-4e0d-b5df-c2bb337a006d",
   "metadata": {},
   "outputs": [
    {
     "data": {
      "text/html": [
       "<style>#sk-2524fb38-f107-4166-ae3e-261ff15355cd {color: black;background-color: white;}#sk-2524fb38-f107-4166-ae3e-261ff15355cd pre{padding: 0;}#sk-2524fb38-f107-4166-ae3e-261ff15355cd div.sk-toggleable {background-color: white;}#sk-2524fb38-f107-4166-ae3e-261ff15355cd label.sk-toggleable__label {cursor: pointer;display: block;width: 100%;margin-bottom: 0;padding: 0.2em 0.3em;box-sizing: border-box;text-align: center;}#sk-2524fb38-f107-4166-ae3e-261ff15355cd div.sk-toggleable__content {max-height: 0;max-width: 0;overflow: hidden;text-align: left;background-color: #f0f8ff;}#sk-2524fb38-f107-4166-ae3e-261ff15355cd div.sk-toggleable__content pre {margin: 0.2em;color: black;border-radius: 0.25em;background-color: #f0f8ff;}#sk-2524fb38-f107-4166-ae3e-261ff15355cd input.sk-toggleable__control:checked~div.sk-toggleable__content {max-height: 200px;max-width: 100%;overflow: auto;}#sk-2524fb38-f107-4166-ae3e-261ff15355cd div.sk-estimator input.sk-toggleable__control:checked~label.sk-toggleable__label {background-color: #d4ebff;}#sk-2524fb38-f107-4166-ae3e-261ff15355cd div.sk-label input.sk-toggleable__control:checked~label.sk-toggleable__label {background-color: #d4ebff;}#sk-2524fb38-f107-4166-ae3e-261ff15355cd input.sk-hidden--visually {border: 0;clip: rect(1px 1px 1px 1px);clip: rect(1px, 1px, 1px, 1px);height: 1px;margin: -1px;overflow: hidden;padding: 0;position: absolute;width: 1px;}#sk-2524fb38-f107-4166-ae3e-261ff15355cd div.sk-estimator {font-family: monospace;background-color: #f0f8ff;margin: 0.25em 0.25em;border: 1px dotted black;border-radius: 0.25em;box-sizing: border-box;}#sk-2524fb38-f107-4166-ae3e-261ff15355cd div.sk-estimator:hover {background-color: #d4ebff;}#sk-2524fb38-f107-4166-ae3e-261ff15355cd div.sk-parallel-item::after {content: \"\";width: 100%;border-bottom: 1px solid gray;flex-grow: 1;}#sk-2524fb38-f107-4166-ae3e-261ff15355cd div.sk-label:hover label.sk-toggleable__label {background-color: #d4ebff;}#sk-2524fb38-f107-4166-ae3e-261ff15355cd div.sk-serial::before {content: \"\";position: absolute;border-left: 1px solid gray;box-sizing: border-box;top: 2em;bottom: 0;left: 50%;}#sk-2524fb38-f107-4166-ae3e-261ff15355cd div.sk-serial {display: flex;flex-direction: column;align-items: center;background-color: white;}#sk-2524fb38-f107-4166-ae3e-261ff15355cd div.sk-item {z-index: 1;}#sk-2524fb38-f107-4166-ae3e-261ff15355cd div.sk-parallel {display: flex;align-items: stretch;justify-content: center;background-color: white;}#sk-2524fb38-f107-4166-ae3e-261ff15355cd div.sk-parallel-item {display: flex;flex-direction: column;position: relative;background-color: white;}#sk-2524fb38-f107-4166-ae3e-261ff15355cd div.sk-parallel-item:first-child::after {align-self: flex-end;width: 50%;}#sk-2524fb38-f107-4166-ae3e-261ff15355cd div.sk-parallel-item:last-child::after {align-self: flex-start;width: 50%;}#sk-2524fb38-f107-4166-ae3e-261ff15355cd div.sk-parallel-item:only-child::after {width: 0;}#sk-2524fb38-f107-4166-ae3e-261ff15355cd div.sk-dashed-wrapped {border: 1px dashed gray;margin: 0.2em;box-sizing: border-box;padding-bottom: 0.1em;background-color: white;position: relative;}#sk-2524fb38-f107-4166-ae3e-261ff15355cd div.sk-label label {font-family: monospace;font-weight: bold;background-color: white;display: inline-block;line-height: 1.2em;}#sk-2524fb38-f107-4166-ae3e-261ff15355cd div.sk-label-container {position: relative;z-index: 2;text-align: center;}#sk-2524fb38-f107-4166-ae3e-261ff15355cd div.sk-container {display: inline-block;position: relative;}</style><div id=\"sk-2524fb38-f107-4166-ae3e-261ff15355cd\" class\"sk-top-container\"><div class=\"sk-container\"><div class=\"sk-item sk-dashed-wrapped\"><div class=\"sk-label-container\"><div class=\"sk-label sk-toggleable\"><input class=\"sk-toggleable__control sk-hidden--visually\" id=\"5dfd1aa2-61ac-42e8-86bb-5f81e28f1d2b\" type=\"checkbox\" ><label class=\"sk-toggleable__label\" for=\"5dfd1aa2-61ac-42e8-86bb-5f81e28f1d2b\">Pipeline</label><div class=\"sk-toggleable__content\"><pre>Pipeline(steps=[('preprocessing',\n",
       "                 ColumnTransformer(transformers=[('categorical',\n",
       "                                                  Pipeline(steps=[('impute',\n",
       "                                                                   SimpleImputer(strategy='most_frequent')),\n",
       "                                                                  ('one_hot',\n",
       "                                                                   OneHotEncoder(dtype='int',\n",
       "                                                                                 handle_unknown='ignore',\n",
       "                                                                                 sparse=False))]),\n",
       "                                                  ['emp_index', 'country',\n",
       "                                                   'sex', 'cust_date',\n",
       "                                                   'new_cust', 'indrel',\n",
       "                                                   'last_date_as_primary',\n",
       "                                                   'cust_type', 'cust_rel',\n",
       "                                                   'residence_index',...\n",
       "                                                   'derivative_account',\n",
       "                                                   'payroll_account',\n",
       "                                                   'junior_account',\n",
       "                                                   'mas_account',\n",
       "                                                   'perticular_account',\n",
       "                                                   'perticular_plus',\n",
       "                                                   'st_deposit', 'mt_deposits',\n",
       "                                                   'lt_deposits', 'e_account',\n",
       "                                                   'funds', ...]),\n",
       "                                                 ('numerical',\n",
       "                                                  Pipeline(steps=[('imputing '\n",
       "                                                                   'mean',\n",
       "                                                                   SimpleImputer()),\n",
       "                                                                  ('scale',\n",
       "                                                                   MinMaxScaler())]),\n",
       "                                                  ['age', 'cust_seniority',\n",
       "                                                   'income'])])),\n",
       "                ('pca', PCA(n_components=0.95)),\n",
       "                ('logit', LogisticRegression())])</pre></div></div></div><div class=\"sk-serial\"><div class=\"sk-item sk-dashed-wrapped\"><div class=\"sk-label-container\"><div class=\"sk-label sk-toggleable\"><input class=\"sk-toggleable__control sk-hidden--visually\" id=\"7ac674a7-94d1-4a77-89b4-feefec7a2b42\" type=\"checkbox\" ><label class=\"sk-toggleable__label\" for=\"7ac674a7-94d1-4a77-89b4-feefec7a2b42\">preprocessing: ColumnTransformer</label><div class=\"sk-toggleable__content\"><pre>ColumnTransformer(transformers=[('categorical',\n",
       "                                 Pipeline(steps=[('impute',\n",
       "                                                  SimpleImputer(strategy='most_frequent')),\n",
       "                                                 ('one_hot',\n",
       "                                                  OneHotEncoder(dtype='int',\n",
       "                                                                handle_unknown='ignore',\n",
       "                                                                sparse=False))]),\n",
       "                                 ['emp_index', 'country', 'sex', 'cust_date',\n",
       "                                  'new_cust', 'indrel', 'last_date_as_primary',\n",
       "                                  'cust_type', 'cust_rel', 'residence_index',\n",
       "                                  'foreigner_index', 'joining_channe...\n",
       "                                  'segmentation', 'savings_account',\n",
       "                                  'guarantees', 'current_account',\n",
       "                                  'derivative_account', 'payroll_account',\n",
       "                                  'junior_account', 'mas_account',\n",
       "                                  'perticular_account', 'perticular_plus',\n",
       "                                  'st_deposit', 'mt_deposits', 'lt_deposits',\n",
       "                                  'e_account', 'funds', ...]),\n",
       "                                ('numerical',\n",
       "                                 Pipeline(steps=[('imputing mean',\n",
       "                                                  SimpleImputer()),\n",
       "                                                 ('scale', MinMaxScaler())]),\n",
       "                                 ['age', 'cust_seniority', 'income'])])</pre></div></div></div><div class=\"sk-parallel\"><div class=\"sk-parallel-item\"><div class=\"sk-item\"><div class=\"sk-label-container\"><div class=\"sk-label sk-toggleable\"><input class=\"sk-toggleable__control sk-hidden--visually\" id=\"ffe23192-c1fa-4c61-9e79-eea6e78bd2bd\" type=\"checkbox\" ><label class=\"sk-toggleable__label\" for=\"ffe23192-c1fa-4c61-9e79-eea6e78bd2bd\">categorical</label><div class=\"sk-toggleable__content\"><pre>['emp_index', 'country', 'sex', 'cust_date', 'new_cust', 'indrel', 'last_date_as_primary', 'cust_type', 'cust_rel', 'residence_index', 'foreigner_index', 'joining_channel', 'deceased', 'prov_name', 'activity_index', 'segmentation', 'savings_account', 'guarantees', 'current_account', 'derivative_account', 'payroll_account', 'junior_account', 'mas_account', 'perticular_account', 'perticular_plus', 'st_deposit', 'mt_deposits', 'lt_deposits', 'e_account', 'funds', 'mortgage', 'pension', 'loan', 'tax', 'credit_card', 'securities', 'home_account', 'payroll', 'pension2', 'direct_debit']</pre></div></div></div><div class=\"sk-serial\"><div class=\"sk-item\"><div class=\"sk-serial\"><div class=\"sk-item\"><div class=\"sk-estimator sk-toggleable\"><input class=\"sk-toggleable__control sk-hidden--visually\" id=\"66d1695d-ff92-4512-9c0e-4cb91a09d4d9\" type=\"checkbox\" ><label class=\"sk-toggleable__label\" for=\"66d1695d-ff92-4512-9c0e-4cb91a09d4d9\">SimpleImputer</label><div class=\"sk-toggleable__content\"><pre>SimpleImputer(strategy='most_frequent')</pre></div></div></div><div class=\"sk-item\"><div class=\"sk-estimator sk-toggleable\"><input class=\"sk-toggleable__control sk-hidden--visually\" id=\"fc638eb9-563b-419d-9817-068b099832a0\" type=\"checkbox\" ><label class=\"sk-toggleable__label\" for=\"fc638eb9-563b-419d-9817-068b099832a0\">OneHotEncoder</label><div class=\"sk-toggleable__content\"><pre>OneHotEncoder(dtype='int', handle_unknown='ignore', sparse=False)</pre></div></div></div></div></div></div></div></div><div class=\"sk-parallel-item\"><div class=\"sk-item\"><div class=\"sk-label-container\"><div class=\"sk-label sk-toggleable\"><input class=\"sk-toggleable__control sk-hidden--visually\" id=\"a0a8a6ca-a4ae-4cb2-a941-09507254e7d3\" type=\"checkbox\" ><label class=\"sk-toggleable__label\" for=\"a0a8a6ca-a4ae-4cb2-a941-09507254e7d3\">numerical</label><div class=\"sk-toggleable__content\"><pre>['age', 'cust_seniority', 'income']</pre></div></div></div><div class=\"sk-serial\"><div class=\"sk-item\"><div class=\"sk-serial\"><div class=\"sk-item\"><div class=\"sk-estimator sk-toggleable\"><input class=\"sk-toggleable__control sk-hidden--visually\" id=\"7d2f70ff-e1a7-4474-900e-8b67b2f16944\" type=\"checkbox\" ><label class=\"sk-toggleable__label\" for=\"7d2f70ff-e1a7-4474-900e-8b67b2f16944\">SimpleImputer</label><div class=\"sk-toggleable__content\"><pre>SimpleImputer()</pre></div></div></div><div class=\"sk-item\"><div class=\"sk-estimator sk-toggleable\"><input class=\"sk-toggleable__control sk-hidden--visually\" id=\"b1b2cf24-fb23-4283-8699-533cde79600a\" type=\"checkbox\" ><label class=\"sk-toggleable__label\" for=\"b1b2cf24-fb23-4283-8699-533cde79600a\">MinMaxScaler</label><div class=\"sk-toggleable__content\"><pre>MinMaxScaler()</pre></div></div></div></div></div></div></div></div></div></div><div class=\"sk-item\"><div class=\"sk-estimator sk-toggleable\"><input class=\"sk-toggleable__control sk-hidden--visually\" id=\"514d5be1-dab7-4827-af3e-9737ad8ecd7f\" type=\"checkbox\" ><label class=\"sk-toggleable__label\" for=\"514d5be1-dab7-4827-af3e-9737ad8ecd7f\">PCA</label><div class=\"sk-toggleable__content\"><pre>PCA(n_components=0.95)</pre></div></div></div><div class=\"sk-item\"><div class=\"sk-estimator sk-toggleable\"><input class=\"sk-toggleable__control sk-hidden--visually\" id=\"d1656c8e-157b-4093-ae7c-32a678560486\" type=\"checkbox\" ><label class=\"sk-toggleable__label\" for=\"d1656c8e-157b-4093-ae7c-32a678560486\">LogisticRegression</label><div class=\"sk-toggleable__content\"><pre>LogisticRegression()</pre></div></div></div></div></div></div></div>"
      ],
      "text/plain": [
       "Pipeline(steps=[('preprocessing',\n",
       "                 ColumnTransformer(transformers=[('categorical',\n",
       "                                                  Pipeline(steps=[('impute',\n",
       "                                                                   SimpleImputer(strategy='most_frequent')),\n",
       "                                                                  ('one_hot',\n",
       "                                                                   OneHotEncoder(dtype='int',\n",
       "                                                                                 handle_unknown='ignore',\n",
       "                                                                                 sparse=False))]),\n",
       "                                                  ['emp_index', 'country',\n",
       "                                                   'sex', 'cust_date',\n",
       "                                                   'new_cust', 'indrel',\n",
       "                                                   'last_date_as_primary',\n",
       "                                                   'cust_type', 'cust_rel',\n",
       "                                                   'residence_index',...\n",
       "                                                   'derivative_account',\n",
       "                                                   'payroll_account',\n",
       "                                                   'junior_account',\n",
       "                                                   'mas_account',\n",
       "                                                   'perticular_account',\n",
       "                                                   'perticular_plus',\n",
       "                                                   'st_deposit', 'mt_deposits',\n",
       "                                                   'lt_deposits', 'e_account',\n",
       "                                                   'funds', ...]),\n",
       "                                                 ('numerical',\n",
       "                                                  Pipeline(steps=[('imputing '\n",
       "                                                                   'mean',\n",
       "                                                                   SimpleImputer()),\n",
       "                                                                  ('scale',\n",
       "                                                                   MinMaxScaler())]),\n",
       "                                                  ['age', 'cust_seniority',\n",
       "                                                   'income'])])),\n",
       "                ('pca', PCA(n_components=0.95)),\n",
       "                ('logit', LogisticRegression())])"
      ]
     },
     "execution_count": 38,
     "metadata": {},
     "output_type": "execute_result"
    }
   ],
   "source": [
    "fitted_logit"
   ]
  },
  {
   "cell_type": "code",
   "execution_count": 33,
   "id": "f092a202-6903-4768-a587-45b4f724a521",
   "metadata": {},
   "outputs": [],
   "source": [
    "fitted_logit = logit_pipe.fit(train_Xs,train_y)"
   ]
  },
  {
   "cell_type": "code",
   "execution_count": 48,
   "id": "7aca8288-2ec9-4166-bfb8-c9a0bd569470",
   "metadata": {},
   "outputs": [
    {
     "data": {
      "image/png": "[encoded data removed]",
      "text/plain": [
       "<Figure size 432x288 with 1 Axes>"
      ]
     },
     "metadata": {
      "needs_background": "light"
     },
     "output_type": "display_data"
    }
   ],
   "source": [
    "preds = fitted_logit.predict(final_test_Xs)\n",
    "from sklearn.metrics import mean_absolute_error\n",
    "mae = mean_absolute_error(final_test_y,preds)\n",
    "graph_preds(np.array(final_test_y),np.array(preds))"
   ]
  },
  {
   "cell_type": "code",
   "execution_count": 46,
   "id": "35f77351-28e0-4931-b788-7679b8d4144a",
   "metadata": {},
   "outputs": [
    {
     "name": "stdout",
     "output_type": "stream",
     "text": [
      "the MAE is: 0.017543859649122806\n"
     ]
    },
    {
     "data": {
      "image/png": "[encoded data removed]",
      "text/plain": [
       "<Figure size 432x288 with 1 Axes>"
      ]
     },
     "metadata": {
      "needs_background": "light"
     },
     "output_type": "display_data"
    }
   ],
   "source": [
    "preds = fitted_logit.predict(test_Xs)\n",
    "mae = mean_absolute_error(test_y,preds)\n",
    "print(f'the MAE is: {mae}')\n",
    "graph_preds(np.array(test_y),np.array(preds))"
   ]
  },
  {
   "cell_type": "code",
   "execution_count": 42,
   "id": "9fdd6496-b4a9-4240-897a-b05eeb628df3",
   "metadata": {},
   "outputs": [
    {
     "name": "stdout",
     "output_type": "stream",
     "text": [
      "the MAE is: 0.03232205619164672\n"
     ]
    }
   ],
   "source": [
    "print(f'the MAE is: {mae}')"
   ]
  },
  {
   "cell_type": "code",
   "execution_count": 47,
   "id": "e9de42fa-41b5-4f3a-a0df-62ffbd2995ed",
   "metadata": {},
   "outputs": [
    {
     "data": {
      "image/png": "[encoded data removed]",
      "text/plain": [
       "<Figure size 432x288 with 1 Axes>"
      ]
     },
     "metadata": {
      "needs_background": "light"
     },
     "output_type": "display_data"
    }
   ],
   "source": [
    "pp_train_Xs = pca.fit_transform(pp_train_Xs)\n",
    "pp_test_Xs = pca.transform(pp_test_Xs)\n",
    "pp_final_Xs = pca.transform(pp_final_Xs)\n"
   ]
  },
  {
   "cell_type": "markdown",
   "id": "032d3861-09a8-4f4c-bf71-067f51ec356f",
   "metadata": {},
   "source": [
    "<h2> Data Processing Complete </h2>\n",
    "\n",
    "<h4> Begin ML model creation: Logistic Reg Baseline </h4>"
   ]
  },
  {
   "cell_type": "code",
   "execution_count": 12,
   "id": "ffa8c313-2739-46b0-bfff-f2593af4adc5",
   "metadata": {},
   "outputs": [],
   "source": [
    "#defining helper functions \n",
    "\n",
    "def get_confusion_mtx(df):\n",
    "    from sklearn.metrics import confusion_matrix\n",
    "    y_actu = df.loc[:,'true values']\n",
    "    y_pred = df.loc[:,'predicted values']\n",
    "    \n",
    "    return confusion_matrix(y_actu,y_pred)\n",
    "\n",
    "def graph_preds(validation,prediction):\n",
    "    y_valid_ser = pd.Series(validation.reshape(1,-1)[0]).rename('true values')\n",
    "    compare_df = pd.DataFrame(pd.Series(prediction).rename('predicted values')).join(y_valid_ser)\n",
    "    \n",
    "    confusion_mtx = get_confusion_mtx(compare_df)\n",
    "    confusion_mtx = np.around(confusion_mtx/compare_df.shape[0],4)*100\n",
    "    \n",
    "    \n",
    "    #adding jitters to the dataframe\n",
    "    rows = compare_df.shape[0]\n",
    "    compare_df = compare_df.apply(lambda x: x+np.random.randn(rows)*0.05)\n",
    "    \n",
    "    \n",
    "    compare_df.plot.scatter(x='predicted values',\n",
    "                            y='true values',\n",
    "                            s=0.2)\n",
    "    \n",
    "    plt.xlim((-0.5,1.5))\n",
    "    plt.ylim((-0.5,1.5))\n",
    "    plt.xticks(range(0,2))\n",
    "    plt.yticks(range(0,2))\n",
    "    \n",
    "    plt.text(0-0.3,1.3,f'False Negatives: {round(confusion_mtx[1,0],2)}%')#pred,actual\n",
    "    plt.text(0-0.3,0.3,f'True Negatives: {round(confusion_mtx[0,0],2)}%')\n",
    "    plt.text(1-0.3,0.3,f'False Positives: {round(confusion_mtx[0,1],2)}%')\n",
    "    plt.text(1-0.3,1.3,f'True Positives: {round(confusion_mtx[1,1],2)}%')\n",
    "    \n",
    "    #plt.plot([-2,2],[-2,2],c='red',ls='--')\n",
    "    plt.plot([0.5,0.5],[-0.5,1.5],c='black')\n",
    "    plt.plot([-0.5,1.5],[0.5,0.5],c='black')\n",
    "    \n",
    "    plt.title('Scatterplot Representation of Logistic Confusion Matrix') \n",
    "    \n",
    "    #display(compare_df)"
   ]
  },
  {
   "cell_type": "code",
   "execution_count": 13,
   "id": "b02894c3-252e-4445-a041-245fdd1045f3",
   "metadata": {},
   "outputs": [
    {
     "name": "stdout",
     "output_type": "stream",
     "text": [
      "the model has \n",
      "\tScore of: 0.9676779438083533\n",
      "\tMAE of: 0.03232205619164672\n",
      "\tCross Validation Scores of:[1.0, 0.9803921568627451, 0.9803921568627451, 0.9803921568627451, 0.9411764705882353] in training\n"
     ]
    },
    {
     "data": {
      "image/png": "[encoded data removed]",
      "text/plain": [
       "<Figure size 432x288 with 1 Axes>"
      ]
     },
     "metadata": {
      "needs_background": "light"
     },
     "output_type": "display_data"
    },
    {
     "data": {
      "image/png": "[encoded data removed]",
      "text/plain": [
       "<Figure size 432x288 with 1 Axes>"
      ]
     },
     "metadata": {
      "needs_background": "light"
     },
     "output_type": "display_data"
    }
   ],
   "source": [
    "from sklearn.linear_model import LogisticRegression\n",
    "logisticRegr = LogisticRegression(solver = 'lbfgs')\n",
    "\n",
    "logisticRegr.fit(pp_train_Xs, train_y)\n",
    "\n",
    "from sklearn.metrics import mean_absolute_error\n",
    "\n",
    "#preds_proba = logisticRegr.predict_proba(test_Xs)[:,0]\n",
    "#print(preds_proba)\n",
    "preds = logisticRegr.predict(pp_final_Xs)\n",
    "\n",
    "mae = mean_absolute_error(final_test_y,preds)\n",
    "score = logisticRegr.score(pp_final_Xs,final_test_y)\n",
    "cv_scores = cross_val_score(logisticRegr, pp_train_Xs, train_y, cv=5)\n",
    "\n",
    "print(f'the model has \\n\\tScore of: {score}\\n\\tMAE of: {mae}\\n\\tCross Validation Scores of:{list(cv_scores)} in training')\n",
    "\n",
    "graph_preds(np.array(final_test_y),np.array(preds))\n",
    "from sklearn import metrics\n",
    "metrics.plot_roc_curve(logisticRegr, pp_final_Xs, final_test_y)\n",
    "plt.title('ROC Curve of Logistic Regression Results')\n",
    "plt.show()"
   ]
  },
  {
   "cell_type": "markdown",
   "id": "00d1b99b-a929-4cc6-9397-b2cdc8428a6b",
   "metadata": {},
   "source": [
    "However, notice that our model's precision is quite low. Therefore, we will have to try other models such as gradient boosted classifiers, which are effective according to this post (https://stats.stackexchange.com/questions/203088/high-recall-low-precision-for-unbalanced-dataset) standard Random Forest Classifiers etc."
   ]
  },
  {
   "cell_type": "code",
   "execution_count": null,
   "id": "bb458088-c6b2-464b-9acd-b5cd0addee7d",
   "metadata": {},
   "outputs": [],
   "source": []
  },
  {
   "cell_type": "markdown",
   "id": "5fc3ce87-8880-4a27-97bb-1263013a9519",
   "metadata": {},
   "source": [
    "<h3> Formatted/Cleaned Notebook stops here </h3>"
   ]
  },
  {
   "cell_type": "code",
   "execution_count": null,
   "id": "dc5d6ef9-4281-4286-9f7f-f70676f77457",
   "metadata": {},
   "outputs": [],
   "source": []
  },
  {
   "cell_type": "code",
   "execution_count": 16,
   "id": "28e833e4-aef8-46d1-b809-63beb0afc285",
   "metadata": {},
   "outputs": [],
   "source": [
    "from sklearn.linear_model import LassoCV\n",
    "reg = LassoCV(cv=5, random_state=42).fit(pp_train_Xs,train_y)"
   ]
  },
  {
   "cell_type": "code",
   "execution_count": 18,
   "id": "b1478222-33f0-48db-bea4-4903c3c4ff3b",
   "metadata": {},
   "outputs": [
    {
     "data": {
      "text/plain": [
       "array([0.97409236, 0.8471371 , 0.89531245, 0.97792843, 0.77777218])"
      ]
     },
     "execution_count": 18,
     "metadata": {},
     "output_type": "execute_result"
    }
   ],
   "source": [
    "from sklearn.model_selection import cross_val_score\n",
    "scores = cross_val_score(reg, pp_train_Xs, train_y, cv=5)\n",
    "scores"
   ]
  },
  {
   "cell_type": "code",
   "execution_count": 25,
   "id": "8fa7a67e-ef01-45aa-bf6b-143be266b2eb",
   "metadata": {},
   "outputs": [],
   "source": [
    "preds_lasso = reg.predict(pp_final_Xs)\n",
    "preds_binary = np.where(preds_lasso>0.5,1,0)"
   ]
  },
  {
   "cell_type": "code",
   "execution_count": 26,
   "id": "0c5f226a-e4bc-424a-8bc7-aa7df5199af7",
   "metadata": {},
   "outputs": [
    {
     "data": {
      "image/png": "[encoded data removed]",
      "text/plain": [
       "<Figure size 432x288 with 1 Axes>"
      ]
     },
     "metadata": {
      "needs_background": "light"
     },
     "output_type": "display_data"
    },
    {
     "data": {
      "image/png": "[encoded data removed]",
      "text/plain": [
       "<Figure size 432x288 with 1 Axes>"
      ]
     },
     "metadata": {
      "needs_background": "light"
     },
     "output_type": "display_data"
    }
   ],
   "source": [
    "graph_preds(np.array(final_test_y),preds_binary)\n",
    "from sklearn import metrics\n",
    "metrics.plot_roc_curve(logisticRegr, pp_final_Xs, final_test_y)\n",
    "plt.title('ROC Curve of LASSO Regression Results')\n",
    "plt.show()"
   ]
  },
  {
   "cell_type": "code",
   "execution_count": 289,
   "id": "25a474e6-ca08-4ae6-9c52-3a951ff41664",
   "metadata": {},
   "outputs": [
    {
     "ename": "SyntaxError",
     "evalue": "invalid syntax (458084992.py, line 1)",
     "output_type": "error",
     "traceback": [
      "\u001b[0;36m  Input \u001b[0;32mIn [289]\u001b[0;36m\u001b[0m\n\u001b[0;31m    cat_colnames = lasso_pipe.named_steps[.transformers_[1][1]\\\u001b[0m\n\u001b[0m                                          ^\u001b[0m\n\u001b[0;31mSyntaxError\u001b[0m\u001b[0;31m:\u001b[0m invalid syntax\n"
     ]
    }
   ],
   "source": [
    "coef = reg.coef_.flatten()\n",
    "coef_df = pd.DataFrame(zip(all_cols, coef), columns=[\"feature\", \"coef\"])\n",
    "coef_df[\"abs_coef\"] = coef_df[\"coef\"].apply(lambda x: abs(x))\n",
    "coef_df[\"colors\"] = coef_df[\"coef\"].apply(lambda x: \"green\" if x > 0 else \"red\")\n",
    "coef_df = coef_df.sort_values(\"abs_coef\", ascending=False)\n",
    "\n",
    "#graphing important features\n",
    "    # Plot coef\n",
    "import matplotlib.pyplot as plt\n",
    "import seaborn as sns\n",
    "%matplotlib inline\n",
    "fig, ax = plt.subplots(1, 1, figsize=(12, 7))\n",
    "sns.barplot(x=\"feature\",\n",
    "            y=\"coef\",\n",
    "            data=coef_df.head(20),\n",
    "           palette=coef_df.head(20)[\"colors\"])\n",
    "ax.set_xticklabels(ax.get_xticklabels(), rotation=90, fontsize=20)\n",
    "ax.set_title(\"Top 20 Features\", fontsize=25)\n",
    "ax.set_ylabel(\"Coef\", fontsize=22)\n",
    "ax.set_xlabel(\"Feature Name\", fontsize=22)"
   ]
  },
  {
   "cell_type": "code",
   "execution_count": 274,
   "id": "bf2f716a-9528-44dc-9627-5f1bb963dc36",
   "metadata": {},
   "outputs": [
    {
     "name": "stdout",
     "output_type": "stream",
     "text": [
      "Computing regularization path using the lasso...\n"
     ]
    },
    {
     "data": {
      "image/png": "[encoded data removed]",
      "text/plain": [
       "<Figure size 432x288 with 1 Axes>"
      ]
     },
     "metadata": {
      "needs_background": "light"
     },
     "output_type": "display_data"
    }
   ],
   "source": [
    "from itertools import cycle\n",
    "import numpy as np\n",
    "import matplotlib.pyplot as plt\n",
    "\n",
    "from sklearn.linear_model import lasso_path, enet_path\n",
    "\n",
    "eps = 5e-3  # the smaller it is the longer is the path\n",
    "\n",
    "print(\"Computing regularization path using the lasso...\")\n",
    "alphas_lasso, coefs_lasso, _ = lasso_path(train_Xs, train_y, eps=eps)\n",
    "alphas_enet, coefs_enet, _ = enet_path(train_Xs, train_y, eps=eps, l1_ratio=0.8)\n",
    "\n",
    "plt.figure(1)\n",
    "colors = cycle([\"b\", \"r\", \"g\", \"c\", \"k\"])\n",
    "neg_log_alphas_lasso = -np.log10(alphas_lasso)\n",
    "neg_log_alphas_enet = -np.log10(alphas_enet)\n",
    "for coef_l, coef_e, c in zip(coefs_lasso, coefs_enet, colors):\n",
    "    l1 = plt.plot(neg_log_alphas_lasso, coef_l, c=c)\n",
    "    l2 = plt.plot(neg_log_alphas_enet, coef_e, linestyle=\"--\", c=c)\n",
    "\n",
    "    "
   ]
  },
  {
   "cell_type": "code",
   "execution_count": null,
   "id": "f863b4b2-b97b-4fbb-a19f-7a700d120644",
   "metadata": {},
   "outputs": [],
   "source": []
  },
  {
   "cell_type": "code",
   "execution_count": null,
   "id": "629b3564-f0a9-4a25-a85c-30474010588a",
   "metadata": {},
   "outputs": [],
   "source": [
    "full_outcomes = raw_df.loc[:,'savings_account':'new_direct_debit']"
   ]
  },
  {
   "cell_type": "code",
   "execution_count": null,
   "id": "dc4fa0b1-daf1-4827-aa71-9924511b969c",
   "metadata": {},
   "outputs": [],
   "source": [
    "outcomes = raw_df.loc[:,'savings_account':'direct_debit']"
   ]
  },
  {
   "cell_type": "code",
   "execution_count": null,
   "id": "41c8d838-6959-4b22-b33a-c4ccf2f8311d",
   "metadata": {},
   "outputs": [],
   "source": [
    "new_outcomes = raw_df.loc[:,'new_savings_account':'new_direct_debit']"
   ]
  },
  {
   "cell_type": "code",
   "execution_count": null,
   "id": "fec061c0-6c36-4950-adc4-36527cfe67b7",
   "metadata": {},
   "outputs": [],
   "source": [
    "full_outcomes = full_outcomes.fillna(full_outcomes.mean())"
   ]
  },
  {
   "cell_type": "code",
   "execution_count": null,
   "id": "a01f284f",
   "metadata": {},
   "outputs": [],
   "source": [
    "income_X = raw_df.loc[:,'income'].rename('income')"
   ]
  },
  {
   "cell_type": "code",
   "execution_count": null,
   "id": "bdab773a-59c2-4ac1-80b1-486fd237cff4",
   "metadata": {},
   "outputs": [],
   "source": [
    "Xs = raw_df.drop(columns='income')"
   ]
  },
  {
   "cell_type": "code",
   "execution_count": null,
   "id": "7aa3b165-eda1-4740-aa4d-2b8a02e31e88",
   "metadata": {},
   "outputs": [],
   "source": [
    "def get_heatmap(df):\n",
    "    fig, ax = plt.subplots(figsize=(15,12))\n",
    "    sns.heatmap(df.corr(),ax=ax)\n",
    "    plt.show()"
   ]
  },
  {
   "cell_type": "code",
   "execution_count": null,
   "id": "618d0ee1-9a18-4900-acac-04f360b65b79",
   "metadata": {},
   "outputs": [],
   "source": [
    "get_heatmap(full_outcomes.corr()) # white bars come from singleton responses (ie everyone responded with 0 or 1)"
   ]
  },
  {
   "cell_type": "markdown",
   "id": "2ed4837d-0178-4cb1-82a4-a52ae76e5737",
   "metadata": {},
   "source": [
    "From this preliminary analysis, we are able to see that \n",
    "\n",
    "1. current_account is negatively correlated with payroll and derivative_account.\n",
    "2. There are certain \"product mixes\" in the pooled sample. Meaning that if an indiviudal has a pension account, it is likely that they will also have a home_account, loans, and morgage accounts.\n",
    "3. having a payroll_account this period is associated with a higher chance of getting a new_home_account and new_credit_card.\n",
    "4. there are autocorrelations between account openings. If there are more account A opened this month, there is a higher than random chance that more of the same type of account will also be opened in the next period\n",
    "5. If people have a current credit card, there will be a higher than random chance that they will get a new credit card in the next period\n",
    "6. credit_cards and tax accounts are positively correlated with new pension and payroll accounts. Potentially signaling that if individuals income changes, they would begin to purchase more financial products."
   ]
  },
  {
   "cell_type": "code",
   "execution_count": null,
   "id": "7b00f802-db8d-4d30-a941-57b5c3dd842e",
   "metadata": {},
   "outputs": [],
   "source": [
    "credit_card = raw_df.credit_card"
   ]
  },
  {
   "cell_type": "code",
   "execution_count": null,
   "id": "0f9a9675-a223-4099-89f2-a973e1424dcd",
   "metadata": {},
   "outputs": [],
   "source": [
    "cc_t = raw_df.groupby('fetch_date')['credit_card'].mean().rename('t')\n",
    "cc_t1 = cc_t.shift(1)"
   ]
  },
  {
   "cell_type": "code",
   "execution_count": null,
   "id": "bdbd3340-b84d-4e1e-a6ce-937966f22220",
   "metadata": {},
   "outputs": [],
   "source": [
    "ser = cc_t - cc_t1"
   ]
  },
  {
   "cell_type": "code",
   "execution_count": null,
   "id": "5c552af6-261e-496d-82c6-0676afa143b5",
   "metadata": {},
   "outputs": [],
   "source": [
    "ser.plot()"
   ]
  },
  {
   "cell_type": "code",
   "execution_count": null,
   "id": "8a91df06-38b7-464e-a7f7-35ea8cad301e",
   "metadata": {},
   "outputs": [],
   "source": [
    "cc_t1"
   ]
  },
  {
   "cell_type": "code",
   "execution_count": null,
   "id": "3d98d088-4634-409f-aaad-3c00e86e6598",
   "metadata": {},
   "outputs": [],
   "source": [
    "pd.DataFrame(cc_t).join(cc_t1)"
   ]
  },
  {
   "cell_type": "code",
   "execution_count": null,
   "id": "3e69b708-e367-4d66-94ea-f234d658fc0c",
   "metadata": {},
   "outputs": [],
   "source": [
    "credit_card.shift(1)"
   ]
  },
  {
   "cell_type": "code",
   "execution_count": null,
   "id": "c803de1d-f8b0-4ea6-ab21-76be3f37f131",
   "metadata": {},
   "outputs": [],
   "source": [
    "def get_uniques(df):\n",
    "    for col in df:\n",
    "        print(f'{col} has values: {df[col].value_counts()}')\n",
    "        print(f'{col} has {df[col].isna().sum()} NAs')\n",
    "        print('---000---000---')"
   ]
  },
  {
   "cell_type": "markdown",
   "id": "6a26189b-1e05-4008-8308-a266d1f49cdd",
   "metadata": {},
   "source": [
    "### Can we use fiancial products to reversely explain income?"
   ]
  },
  {
   "cell_type": "code",
   "execution_count": null,
   "id": "27bcda44-3bb8-4e27-a28a-04ec3938ee11",
   "metadata": {},
   "outputs": [],
   "source": [
    "from sklearn.model_selection import train_test_split\n",
    "\n",
    "import statsmodels.api as sm\n",
    "from statsmodels.regression.linear_model import OLS\n",
    "\n",
    "from sklearn.impute import SimpleImputer\n",
    "from sklearn.preprocessing import OneHotEncoder, MinMaxScaler\n",
    "from sklearn.pipeline import Pipeline"
   ]
  },
  {
   "cell_type": "code",
   "execution_count": null,
   "id": "f0351fb2-81cd-46b4-b273-eb7f050e3523",
   "metadata": {},
   "outputs": [],
   "source": []
  },
  {
   "cell_type": "code",
   "execution_count": null,
   "id": "57f470a8-82c2-4669-8cfe-68c4f0cead06",
   "metadata": {},
   "outputs": [],
   "source": [
    "from sklearn.compose import ColumnTransformer"
   ]
  },
  {
   "cell_type": "code",
   "execution_count": null,
   "id": "77060804-690f-4e74-a85d-fd03decf18d1",
   "metadata": {},
   "outputs": [],
   "source": [
    "def transform_y(y):\n",
    "    return numeric_pipe.fit_transform(np.array(y).reshape(-1, 1))"
   ]
  },
  {
   "cell_type": "code",
   "execution_count": null,
   "id": "2ffa23a1-474a-494a-b99a-4368f35b6c93",
   "metadata": {},
   "outputs": [],
   "source": [
    "def split_col_types(Xs):\n",
    "    #Xs.describe(include=object).T #13 object classes\n",
    "    #obj_Xs = Xs.describe(include=object).T.index.tolist()\n",
    "    obj_Xs = Xs.drop(columns=['age','cust_seniority']).columns.tolist()\n",
    "    #num_Xs = X_train.select_dtypes(include='number').columns.tolist()\n",
    "    num_Xs = ['age','cust_seniority']\n",
    "    \n",
    "    return num_Xs, obj_Xs"
   ]
  },
  {
   "cell_type": "code",
   "execution_count": null,
   "id": "3fc7fcf0-a129-4b30-b890-f5314238787a",
   "metadata": {},
   "outputs": [],
   "source": [
    "def construct_lasso_estimator(alpha,processor):\n",
    "    from sklearn.linear_model import Lasso\n",
    "    from sklearn.metrics import mean_absolute_error\n",
    "\n",
    "    lasso = Lasso(alpha=alpha)\n",
    "\n",
    "    lasso_pipe = Pipeline(steps=[\n",
    "        ('preprocess',processor),\n",
    "        ('model',lasso)\n",
    "    ])"
   ]
  },
  {
   "cell_type": "code",
   "execution_count": null,
   "id": "b60b06d2-6b91-4b47-b6d3-12d45f99b823",
   "metadata": {},
   "outputs": [],
   "source": [
    "def score_model(X_train, X_valid, y_train, y_valid):\n",
    "    \n",
    "    print(X_train.columns)\n",
    "    \n",
    "    y_train_colvec = transform_y(y_train)\n",
    "    y_valid_colvec = transform_y(y_valid)\n",
    "\n",
    "    fitted_lasso = lasso_pipe.fit(X_train,y_train_colvec)\n",
    "    preds = lasso_pipe.predict(X_valid)\n",
    "\n",
    "    mae = mean_absolute_error(y_valid_colvec,preds)\n",
    "    score = lasso_pipe.score(X_valid,y_valid_colvec)\n",
    "\n",
    "    print(f'the model has \\n\\tScore of: {score}\\n\\tMAE of: {mae}')"
   ]
  },
  {
   "cell_type": "code",
   "execution_count": null,
   "id": "dbcac592-26e4-4b24-b6f2-9032b0ae1b98",
   "metadata": {},
   "outputs": [],
   "source": [
    "def run_model(frac=0.1,alpha=1e-3,graphing=True):\n",
    "    \n",
    "    #defining a subsample to run tests, 1 if include all\n",
    "    n_df = raw_df.sample(frac=frac)\n",
    "    \n",
    "    #splitting the independent variables and the y variables\n",
    "    Xs = n_df.drop(columns=['income','Unnamed: 0','cust_code'],axis=1)\n",
    "    y = n_df.income\n",
    "\n",
    "    #train-test split\n",
    "    X_train, X_valid, y_train, y_valid = train_test_split(Xs, \n",
    "                                                          y, \n",
    "                                                          test_size=.3,\n",
    "                                                          random_state=1029)\n",
    "    \n",
    "    obj_Xs = Xs.drop(columns=['age','cust_seniority']).columns.tolist()\n",
    "    num_Xs = ['age','cust_seniority']\n",
    "\n",
    "    numeric_pipe = Pipeline(steps=[\n",
    "        ('imputing mean', SimpleImputer(strategy='mean')),\n",
    "        ('scale', MinMaxScaler())\n",
    "    ])\n",
    "\n",
    "    categorical_pipe = Pipeline(steps=[\n",
    "        ('impute', SimpleImputer(strategy='most_frequent')),\n",
    "        ('one_hot', OneHotEncoder(handle_unknown='ignore',sparse=False))\n",
    "    ])\n",
    "\n",
    "    processor = ColumnTransformer(transformers=[\n",
    "        ('numerical',numeric_pipe,num_Xs),\n",
    "        ('categorical',categorical_pipe,obj_Xs)\n",
    "    ])\n",
    "    \n",
    "    #\n",
    "    \n",
    "    from sklearn.linear_model import Lasso\n",
    "    from sklearn.metrics import mean_absolute_error\n",
    "\n",
    "    lasso = Lasso(alpha=alpha)\n",
    "\n",
    "    lasso_pipe = Pipeline(steps=[\n",
    "        ('preprocess',processor),\n",
    "        ('model',lasso)\n",
    "    ])\n",
    "    \n",
    "    #\n",
    "    \n",
    "    y_train_colvec = transform_y(y_train)\n",
    "    y_valid_colvec = transform_y(y_valid)\n",
    "\n",
    "    fitted_lasso = lasso_pipe.fit(X_train,y_train_colvec)\n",
    "    preds = lasso_pipe.predict(X_valid)\n",
    "\n",
    "    mae = mean_absolute_error(y_valid_colvec,preds)\n",
    "    score = lasso_pipe.score(X_valid,y_valid_colvec)\n",
    "\n",
    "    print(f'the model has \\n\\tScore of: {score}\\n\\tMAE of: {mae}')\n",
    "    \n",
    "    print(num_Xs)\n",
    "    print(obj_Xs)\n",
    "    #construct_lasso_estimator(alpha, processor)\n",
    "    #score_model(X_train, X_valid, y_train, y_valid)\n",
    "    if graphing:\n",
    "        graph_preds(y_valid_colvec,preds)\n",
    "        get_top_features(lasso_pipe,obj_Xs,num_Xs)"
   ]
  },
  {
   "cell_type": "code",
   "execution_count": null,
   "id": "d504c48b-7a76-4db5-a13d-c8d6e6a2d9b3",
   "metadata": {},
   "outputs": [],
   "source": [
    "run_model(frac=0.5,alpha=1e-6)"
   ]
  },
  {
   "cell_type": "code",
   "execution_count": null,
   "id": "4dfd2e42-1e0f-4e62-94f2-92851b874bc4",
   "metadata": {},
   "outputs": [],
   "source": [
    "run_model(frac=0.5,alpha=1e-6)"
   ]
  },
  {
   "cell_type": "markdown",
   "id": "4b461ed7-792a-40a4-b3f7-0f37e0d0229e",
   "metadata": {},
   "source": [
    "1. Select a few important features (X), and plot it against (y)\n",
    "2. Then look at the interaction between Xs (X_1, X_2)\n",
    "3. Outliers, visualization, overfitting, feature selection, preprocessing steps\n",
    "\n",
    "Prove that there is no temporal link\n",
    "\n",
    "If classification -> 0.8\n",
    "If regression -> depends lol\n",
    "\n",
    "Train and test has to be classified "
   ]
  },
  {
   "cell_type": "code",
   "execution_count": null,
   "id": "fb093545-c9e1-406d-a5fa-e42d4a51e788",
   "metadata": {},
   "outputs": [],
   "source": [
    "def get_top_features(lasso_pipe,obj_Xs,num_Xs):\n",
    "    \n",
    "    #get the categorical names\n",
    "    cat_colnames = lasso_pipe.named_steps['preprocess'].transformers_[1][1]\\\n",
    "       .named_steps['one_hot'].get_feature_names(obj_Xs).tolist()\n",
    "    \n",
    "    #creating list of all features\n",
    "    all_cols = np.concatenate([num_Xs,cat_colnames])\n",
    "    \n",
    "    #creating coefficient plot for important features\n",
    "    coef = lasso_pipe.named_steps['model'].coef_.flatten()\n",
    "    coef_df = pd.DataFrame(zip(all_cols, coef), columns=[\"feature\", \"coef\"])\n",
    "    coef_df[\"abs_coef\"] = coef_df[\"coef\"].apply(lambda x: abs(x))\n",
    "    coef_df[\"colors\"] = coef_df[\"coef\"].apply(lambda x: \"green\" if x > 0 else \"red\")\n",
    "    coef_df = coef_df.sort_values(\"abs_coef\", ascending=False)\n",
    "    \n",
    "    #graphing important features\n",
    "    # Plot coef\n",
    "    import matplotlib.pyplot as plt\n",
    "    import seaborn as sns\n",
    "    %matplotlib inline\n",
    "    fig, ax = plt.subplots(1, 1, figsize=(12, 7))\n",
    "    sns.barplot(x=\"feature\",\n",
    "                y=\"coef\",\n",
    "                data=coef_df.head(20),\n",
    "               palette=coef_df.head(20)[\"colors\"])\n",
    "    ax.set_xticklabels(ax.get_xticklabels(), rotation=90, fontsize=20)\n",
    "    ax.set_title(\"Top 20 Features\", fontsize=25)\n",
    "    ax.set_ylabel(\"Coef\", fontsize=22)\n",
    "    ax.set_xlabel(\"Feature Name\", fontsize=22)"
   ]
  },
  {
   "cell_type": "code",
   "execution_count": null,
   "id": "ee6589e6-6390-40be-8288-b6e5563d2aa8",
   "metadata": {},
   "outputs": [],
   "source": [
    "cat_colnames = lasso_pipe.named_steps['preprocess'].transformers_[1][1]\\\n",
    "   .named_steps['one_hot'].get_feature_names(obj_Xs).tolist()"
   ]
  },
  {
   "cell_type": "code",
   "execution_count": null,
   "id": "b6a7b0f2-2f74-410b-b8fa-3f12d88f1fa9",
   "metadata": {},
   "outputs": [],
   "source": [
    "all_cols = np.concatenate([num_Xs,cat_colnames])"
   ]
  },
  {
   "cell_type": "code",
   "execution_count": null,
   "id": "57a84fe3-688d-4387-9d8a-08e80ee2fee5",
   "metadata": {},
   "outputs": [],
   "source": [
    "len(all_cols)"
   ]
  },
  {
   "cell_type": "code",
   "execution_count": null,
   "id": "3ef16980-586e-4bc2-a12d-cd13eb153b9e",
   "metadata": {},
   "outputs": [],
   "source": [
    "len(cat_colnames)"
   ]
  },
  {
   "cell_type": "code",
   "execution_count": null,
   "id": "a7a0f718-5f98-4155-9c52-a1ceb13e5629",
   "metadata": {},
   "outputs": [],
   "source": [
    "coef = lasso_pipe.named_steps['model'].coef_.flatten()"
   ]
  },
  {
   "cell_type": "code",
   "execution_count": null,
   "id": "46d9435e-6c24-474d-a793-51b899a5f522",
   "metadata": {},
   "outputs": [],
   "source": [
    "coef_df = pd.DataFrame(zip(all_cols, coef), columns=[\"feature\", \"coef\"])"
   ]
  },
  {
   "cell_type": "code",
   "execution_count": null,
   "id": "a6214340-770a-45d2-a390-7dceee0aaa57",
   "metadata": {},
   "outputs": [],
   "source": [
    "coef_df[\"abs_coef\"] = coef_df[\"coef\"].apply(lambda x: abs(x))\n",
    "coef_df[\"colors\"] = coef_df[\"coef\"].apply(lambda x: \"green\" if x > 0 else \"red\")\n",
    "coef_df = coef_df.sort_values(\"abs_coef\", ascending=False)"
   ]
  },
  {
   "cell_type": "markdown",
   "id": "f897d2f8-31ff-4a38-9caa-0fb68d01c642",
   "metadata": {},
   "source": [
    "cust_code, prov_code, activity_index, segmentation needs to be converted to categorical"
   ]
  },
  {
   "cell_type": "code",
   "execution_count": null,
   "id": "ad3466af-dd56-409d-b50c-c20b16704278",
   "metadata": {},
   "outputs": [],
   "source": [
    "num_Xs"
   ]
  },
  {
   "cell_type": "code",
   "execution_count": null,
   "id": "c59553bb-f439-485a-9260-da998c293f7d",
   "metadata": {},
   "outputs": [],
   "source": [
    "# Plot coef\n",
    "import matplotlib.pyplot as plt\n",
    "import seaborn as sns\n",
    "%matplotlib inline\n",
    "fig, ax = plt.subplots(1, 1, figsize=(12, 7))\n",
    "sns.barplot(x=\"feature\",\n",
    "            y=\"coef\",\n",
    "            data=coef_df.head(20),\n",
    "           palette=coef_df.head(20)[\"colors\"])\n",
    "ax.set_xticklabels(ax.get_xticklabels(), rotation=90, fontsize=20)\n",
    "ax.set_title(\"Top 20 Features\", fontsize=25)\n",
    "ax.set_ylabel(\"Coef\", fontsize=22)\n",
    "ax.set_xlabel(\"Feature Name\", fontsize=22)"
   ]
  },
  {
   "cell_type": "code",
   "execution_count": null,
   "id": "7a208c2a-c79d-4144-938a-dbc3b9a89ede",
   "metadata": {},
   "outputs": [],
   "source": [
    "importance = np.abs(coef)\n",
    "np.array(Xs.columns)[importance>0]"
   ]
  },
  {
   "cell_type": "code",
   "execution_count": null,
   "id": "5517849c-c924-4491-8f5a-89ef581a1d87",
   "metadata": {},
   "outputs": [],
   "source": [
    "np.count_nonzero(importance)"
   ]
  },
  {
   "cell_type": "markdown",
   "id": "3ac0c5e6-3c59-43b0-9d6c-e16d5d5a9f96",
   "metadata": {},
   "source": [
    "### Pipeline Building"
   ]
  },
  {
   "cell_type": "markdown",
   "id": "29168d48-2ccc-405e-ab62-70c4d0a690dc",
   "metadata": {},
   "source": [
    "### Construct Lasso Estimator"
   ]
  },
  {
   "cell_type": "code",
   "execution_count": null,
   "id": "43808b3f-db97-49a1-867d-2e16578b9197",
   "metadata": {},
   "outputs": [],
   "source": [
    "graph_preds(y_valid_colvec,preds)"
   ]
  }
 ],
 "metadata": {
  "kernelspec": {
   "display_name": "Python 3 (ipykernel)",
   "language": "python",
   "name": "python3"
  },
  "language_info": {
   "codemirror_mode": {
    "name": "ipython",
    "version": 3
   },
   "file_extension": ".py",
   "mimetype": "text/x-python",
   "name": "python",
   "nbconvert_exporter": "python",
   "pygments_lexer": "ipython3",
   "version": "3.9.15"
  }
 },
 "nbformat": 4,
 "nbformat_minor": 5
}
