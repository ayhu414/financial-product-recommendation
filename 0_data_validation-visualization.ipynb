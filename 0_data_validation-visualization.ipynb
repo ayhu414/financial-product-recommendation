{
 "cells": [
  {
   "cell_type": "code",
   "execution_count": 1,
   "id": "85a21c5b-a4eb-4025-8166-a88e0469908a",
   "metadata": {},
   "outputs": [],
   "source": [
    "import numpy as np\n",
    "import pandas as pd"
   ]
  },
  {
   "cell_type": "markdown",
   "id": "744e91e7-2adc-4152-9468-98434c71d87a",
   "metadata": {},
   "source": [
    "### Code Goes Here..."
   ]
  },
  {
   "cell_type": "code",
   "execution_count": 1,
   "id": "d0056772",
   "metadata": {},
   "outputs": [
    {
     "name": "stdout",
     "output_type": "stream",
     "text": [
      "Hello Team!\n"
     ]
    }
   ],
   "source": [
    "print ('Hello Team!')"
   ]
  }
 ],
 "metadata": {
  "kernelspec": {
   "display_name": "Python 3.8.8 ('base')",
   "language": "python",
   "name": "python3"
  },
  "language_info": {
   "codemirror_mode": {
    "name": "ipython",
    "version": 3
   },
   "file_extension": ".py",
   "mimetype": "text/x-python",
   "name": "python",
   "nbconvert_exporter": "python",
   "pygments_lexer": "ipython3",
   "version": "3.8.8"
  },
  "vscode": {
   "interpreter": {
    "hash": "f056d5230ac9be305a17c562bf4f0345d929e8cc341abded9c46fd2793efac68"
   }
  }
 },
 "nbformat": 4,
 "nbformat_minor": 5
}
